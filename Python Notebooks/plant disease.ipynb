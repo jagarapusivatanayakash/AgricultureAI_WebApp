{
  "cells": [
    {
      "cell_type": "markdown",
      "id": "cbb326af",
      "metadata": {
        "papermill": {
          "duration": 0.012267,
          "end_time": "2022-10-01T12:43:07.922390",
          "exception": false,
          "start_time": "2022-10-01T12:43:07.910123",
          "status": "completed"
        },
        "tags": [],
        "id": "cbb326af"
      },
      "source": [
        "# Import the libraries"
      ]
    },
    {
      "cell_type": "code",
      "source": [
        "!pip install -q kaggle"
      ],
      "metadata": {
        "id": "Cz-R5QZ8Yp1S"
      },
      "id": "Cz-R5QZ8Yp1S",
      "execution_count": null,
      "outputs": []
    },
    {
      "cell_type": "code",
      "source": [
        "import os\n",
        "\n",
        "os.environ['KAGGLE_USERNAME'] = \"jagarapusiva\" # username from the json file\n",
        "os.environ['KAGGLE_KEY'] = \"a48720e102d08571c95573944455ea0a\" # key from the json file"
      ],
      "metadata": {
        "id": "DST_6809Y6cO"
      },
      "id": "DST_6809Y6cO",
      "execution_count": null,
      "outputs": []
    },
    {
      "cell_type": "code",
      "source": [
        "!kaggle datasets download -d vipoooool/new-plant-diseases-dataset"
      ],
      "metadata": {
        "colab": {
          "base_uri": "https://localhost:8080/"
        },
        "id": "J-61fI_6ZHab",
        "outputId": "9b795a07-0104-43d8-ee01-287e92e277ab"
      },
      "id": "J-61fI_6ZHab",
      "execution_count": null,
      "outputs": [
        {
          "output_type": "stream",
          "name": "stdout",
          "text": [
            "Downloading new-plant-diseases-dataset.zip to /content\n",
            "100% 2.69G/2.70G [00:36<00:00, 106MB/s] \n",
            "100% 2.70G/2.70G [00:36<00:00, 78.8MB/s]\n"
          ]
        }
      ]
    },
    {
      "cell_type": "code",
      "source": [
        "!pip install patool"
      ],
      "metadata": {
        "colab": {
          "base_uri": "https://localhost:8080/"
        },
        "id": "rfdCWICfj_mk",
        "outputId": "acb6257d-836f-4161-e108-85f75d6603fb"
      },
      "id": "rfdCWICfj_mk",
      "execution_count": null,
      "outputs": [
        {
          "output_type": "stream",
          "name": "stdout",
          "text": [
            "Looking in indexes: https://pypi.org/simple, https://us-python.pkg.dev/colab-wheels/public/simple/\n",
            "Collecting patool\n",
            "  Downloading patool-1.12-py2.py3-none-any.whl (77 kB)\n",
            "\u001b[K     |████████████████████████████████| 77 kB 4.3 MB/s \n",
            "\u001b[?25hInstalling collected packages: patool\n",
            "Successfully installed patool-1.12\n"
          ]
        }
      ]
    },
    {
      "cell_type": "code",
      "source": [
        "import patoolib"
      ],
      "metadata": {
        "id": "BWS5YAhwlaCp"
      },
      "id": "BWS5YAhwlaCp",
      "execution_count": null,
      "outputs": []
    },
    {
      "cell_type": "code",
      "source": [
        "patoolib.extract_archive(\"/content/new-plant-diseases-dataset.zip\")"
      ],
      "metadata": {
        "colab": {
          "base_uri": "https://localhost:8080/",
          "height": 88
        },
        "id": "lDGw24ySkjmk",
        "outputId": "fd91339e-6425-4578-ba62-2ab28fde9b23"
      },
      "id": "lDGw24ySkjmk",
      "execution_count": null,
      "outputs": [
        {
          "output_type": "stream",
          "name": "stdout",
          "text": [
            "patool: Extracting /content/new-plant-diseases-dataset.zip ...\n",
            "patool: running /usr/bin/7z x -o./Unpack_5yvsk6ed -- /content/new-plant-diseases-dataset.zip\n",
            "patool: ... /content/new-plant-diseases-dataset.zip extracted to `new-plant-diseases-dataset' (multiple files in root).\n"
          ]
        },
        {
          "output_type": "execute_result",
          "data": {
            "text/plain": [
              "'new-plant-diseases-dataset'"
            ],
            "application/vnd.google.colaboratory.intrinsic+json": {
              "type": "string"
            }
          },
          "metadata": {},
          "execution_count": 7
        }
      ]
    },
    {
      "cell_type": "code",
      "execution_count": null,
      "id": "99973472",
      "metadata": {
        "execution": {
          "iopub.execute_input": "2022-10-01T12:43:07.944388Z",
          "iopub.status.busy": "2022-10-01T12:43:07.943777Z",
          "iopub.status.idle": "2022-10-01T12:43:14.658821Z",
          "shell.execute_reply": "2022-10-01T12:43:14.657689Z"
        },
        "papermill": {
          "duration": 6.729456,
          "end_time": "2022-10-01T12:43:14.661837",
          "exception": false,
          "start_time": "2022-10-01T12:43:07.932381",
          "status": "completed"
        },
        "tags": [],
        "id": "99973472"
      },
      "outputs": [],
      "source": [
        "from tensorflow.keras.layers import Input,Lambda,Dense,Flatten\n",
        "from tensorflow.keras.models import Model,Sequential\n",
        "from tensorflow.keras.applications.inception_v3 import InceptionV3\n",
        "from tensorflow.keras.applications.inception_v3 import preprocess_input\n",
        "from tensorflow.keras.preprocessing.image import ImageDataGenerator,load_img\n",
        "import numpy as np\n",
        "from glob import glob\n",
        "import matplotlib.pyplot as plt"
      ]
    },
    {
      "cell_type": "markdown",
      "id": "3fef1bd1",
      "metadata": {
        "papermill": {
          "duration": 0.009239,
          "end_time": "2022-10-01T12:43:14.680710",
          "exception": false,
          "start_time": "2022-10-01T12:43:14.671471",
          "status": "completed"
        },
        "tags": [],
        "id": "3fef1bd1"
      },
      "source": [
        "**Define the image size according to the standard set and Define the training path and testing path of the images**"
      ]
    },
    {
      "cell_type": "code",
      "execution_count": null,
      "id": "abf08247",
      "metadata": {
        "execution": {
          "iopub.execute_input": "2022-10-01T12:43:14.703175Z",
          "iopub.status.busy": "2022-10-01T12:43:14.702500Z",
          "iopub.status.idle": "2022-10-01T12:43:14.707640Z",
          "shell.execute_reply": "2022-10-01T12:43:14.706296Z"
        },
        "papermill": {
          "duration": 0.018115,
          "end_time": "2022-10-01T12:43:14.709889",
          "exception": false,
          "start_time": "2022-10-01T12:43:14.691774",
          "status": "completed"
        },
        "tags": [],
        "id": "abf08247"
      },
      "outputs": [],
      "source": [
        "IMAGE_SIZE = [224, 224]\n",
        "train_path = '/content/new-plant-diseases-dataset/New Plant Diseases Dataset(Augmented)/New Plant Diseases Dataset(Augmented)/train'\n",
        "valid_path = '/content/new-plant-diseases-dataset/New Plant Diseases Dataset(Augmented)/New Plant Diseases Dataset(Augmented)/valid'"
      ]
    },
    {
      "cell_type": "markdown",
      "id": "eace141c",
      "metadata": {
        "papermill": {
          "duration": 0.009056,
          "end_time": "2022-10-01T12:43:14.728287",
          "exception": false,
          "start_time": "2022-10-01T12:43:14.719231",
          "status": "completed"
        },
        "tags": [],
        "id": "eace141c"
      },
      "source": [
        "**Load the pre-trained model InceptionV3 and define the weights and input image size**"
      ]
    },
    {
      "cell_type": "code",
      "execution_count": null,
      "id": "4c2d675d",
      "metadata": {
        "execution": {
          "iopub.execute_input": "2022-10-01T12:43:14.749032Z",
          "iopub.status.busy": "2022-10-01T12:43:14.748329Z",
          "iopub.status.idle": "2022-10-01T12:43:17.920731Z",
          "shell.execute_reply": "2022-10-01T12:43:17.919471Z"
        },
        "papermill": {
          "duration": 3.185646,
          "end_time": "2022-10-01T12:43:17.923355",
          "exception": false,
          "start_time": "2022-10-01T12:43:14.737709",
          "status": "completed"
        },
        "tags": [],
        "id": "4c2d675d",
        "outputId": "77da4f09-f0eb-4368-c8a9-ba895cc746bc",
        "colab": {
          "base_uri": "https://localhost:8080/"
        }
      },
      "outputs": [
        {
          "output_type": "stream",
          "name": "stdout",
          "text": [
            "Downloading data from https://storage.googleapis.com/tensorflow/keras-applications/inception_v3/inception_v3_weights_tf_dim_ordering_tf_kernels_notop.h5\n",
            "87910968/87910968 [==============================] - 0s 0us/step\n"
          ]
        }
      ],
      "source": [
        "inception=InceptionV3(input_shape=IMAGE_SIZE+[3],weights='imagenet',include_top=False)"
      ]
    },
    {
      "cell_type": "markdown",
      "id": "67f6f916",
      "metadata": {
        "papermill": {
          "duration": 0.010056,
          "end_time": "2022-10-01T12:43:17.944083",
          "exception": false,
          "start_time": "2022-10-01T12:43:17.934027",
          "status": "completed"
        },
        "tags": [],
        "id": "67f6f916"
      },
      "source": [
        "weights='imagenet' means that we will use pre-trained weights of the imagenet which was used to train the inceptionV3 model."
      ]
    },
    {
      "cell_type": "markdown",
      "id": "38c83c09",
      "metadata": {
        "papermill": {
          "duration": 0.009968,
          "end_time": "2022-10-01T12:43:17.964491",
          "exception": false,
          "start_time": "2022-10-01T12:43:17.954523",
          "status": "completed"
        },
        "tags": [],
        "id": "38c83c09"
      },
      "source": [
        "**No need to train the existing weights**"
      ]
    },
    {
      "cell_type": "code",
      "execution_count": null,
      "id": "f1e0f3ea",
      "metadata": {
        "execution": {
          "iopub.execute_input": "2022-10-01T12:43:17.986747Z",
          "iopub.status.busy": "2022-10-01T12:43:17.986313Z",
          "iopub.status.idle": "2022-10-01T12:43:18.001641Z",
          "shell.execute_reply": "2022-10-01T12:43:18.000800Z"
        },
        "papermill": {
          "duration": 0.029003,
          "end_time": "2022-10-01T12:43:18.003864",
          "exception": false,
          "start_time": "2022-10-01T12:43:17.974861",
          "status": "completed"
        },
        "tags": [],
        "id": "f1e0f3ea"
      },
      "outputs": [],
      "source": [
        "for layers in inception.layers:\n",
        "    layers.trainable=False"
      ]
    },
    {
      "cell_type": "markdown",
      "id": "b23f7a3b",
      "metadata": {
        "papermill": {
          "duration": 0.009996,
          "end_time": "2022-10-01T12:43:18.024264",
          "exception": false,
          "start_time": "2022-10-01T12:43:18.014268",
          "status": "completed"
        },
        "tags": [],
        "id": "b23f7a3b"
      },
      "source": [
        "**flatten the output**"
      ]
    },
    {
      "cell_type": "code",
      "execution_count": null,
      "id": "8ad92f83",
      "metadata": {
        "execution": {
          "iopub.execute_input": "2022-10-01T12:43:18.047530Z",
          "iopub.status.busy": "2022-10-01T12:43:18.046503Z",
          "iopub.status.idle": "2022-10-01T12:43:18.055610Z",
          "shell.execute_reply": "2022-10-01T12:43:18.054887Z"
        },
        "papermill": {
          "duration": 0.02297,
          "end_time": "2022-10-01T12:43:18.057728",
          "exception": false,
          "start_time": "2022-10-01T12:43:18.034758",
          "status": "completed"
        },
        "tags": [],
        "id": "8ad92f83"
      },
      "outputs": [],
      "source": [
        "# our layers - you can add more if you want\n",
        "x=Flatten()(inception.output)"
      ]
    },
    {
      "cell_type": "markdown",
      "id": "a67d4634",
      "metadata": {
        "papermill": {
          "duration": 0.010007,
          "end_time": "2022-10-01T12:43:18.078065",
          "exception": false,
          "start_time": "2022-10-01T12:43:18.068058",
          "status": "completed"
        },
        "tags": [],
        "id": "a67d4634"
      },
      "source": [
        "**Use glob to get total categories so that we can add it at the bottom of our network**"
      ]
    },
    {
      "cell_type": "code",
      "execution_count": null,
      "id": "6cec84c5",
      "metadata": {
        "execution": {
          "iopub.execute_input": "2022-10-01T12:43:18.100926Z",
          "iopub.status.busy": "2022-10-01T12:43:18.099848Z",
          "iopub.status.idle": "2022-10-01T12:43:18.115070Z",
          "shell.execute_reply": "2022-10-01T12:43:18.113940Z"
        },
        "papermill": {
          "duration": 0.029084,
          "end_time": "2022-10-01T12:43:18.117422",
          "exception": false,
          "start_time": "2022-10-01T12:43:18.088338",
          "status": "completed"
        },
        "tags": [],
        "id": "6cec84c5",
        "outputId": "5db33999-33da-427d-c003-6b5b983c88a0",
        "colab": {
          "base_uri": "https://localhost:8080/"
        }
      },
      "outputs": [
        {
          "output_type": "execute_result",
          "data": {
            "text/plain": [
              "['/content/new-plant-diseases-dataset/New Plant Diseases Dataset(Augmented)/New Plant Diseases Dataset(Augmented)/train/Tomato___Tomato_mosaic_virus',\n",
              " '/content/new-plant-diseases-dataset/New Plant Diseases Dataset(Augmented)/New Plant Diseases Dataset(Augmented)/train/Blueberry___healthy',\n",
              " '/content/new-plant-diseases-dataset/New Plant Diseases Dataset(Augmented)/New Plant Diseases Dataset(Augmented)/train/Corn_(maize)___Cercospora_leaf_spot Gray_leaf_spot',\n",
              " '/content/new-plant-diseases-dataset/New Plant Diseases Dataset(Augmented)/New Plant Diseases Dataset(Augmented)/train/Grape___Black_rot',\n",
              " '/content/new-plant-diseases-dataset/New Plant Diseases Dataset(Augmented)/New Plant Diseases Dataset(Augmented)/train/Grape___Esca_(Black_Measles)',\n",
              " '/content/new-plant-diseases-dataset/New Plant Diseases Dataset(Augmented)/New Plant Diseases Dataset(Augmented)/train/Strawberry___Leaf_scorch',\n",
              " '/content/new-plant-diseases-dataset/New Plant Diseases Dataset(Augmented)/New Plant Diseases Dataset(Augmented)/train/Tomato___Leaf_Mold',\n",
              " '/content/new-plant-diseases-dataset/New Plant Diseases Dataset(Augmented)/New Plant Diseases Dataset(Augmented)/train/Apple___healthy',\n",
              " '/content/new-plant-diseases-dataset/New Plant Diseases Dataset(Augmented)/New Plant Diseases Dataset(Augmented)/train/Tomato___Tomato_Yellow_Leaf_Curl_Virus',\n",
              " '/content/new-plant-diseases-dataset/New Plant Diseases Dataset(Augmented)/New Plant Diseases Dataset(Augmented)/train/Cherry_(including_sour)___Powdery_mildew',\n",
              " '/content/new-plant-diseases-dataset/New Plant Diseases Dataset(Augmented)/New Plant Diseases Dataset(Augmented)/train/Corn_(maize)___Common_rust_',\n",
              " '/content/new-plant-diseases-dataset/New Plant Diseases Dataset(Augmented)/New Plant Diseases Dataset(Augmented)/train/Tomato___Spider_mites Two-spotted_spider_mite',\n",
              " '/content/new-plant-diseases-dataset/New Plant Diseases Dataset(Augmented)/New Plant Diseases Dataset(Augmented)/train/Tomato___healthy',\n",
              " '/content/new-plant-diseases-dataset/New Plant Diseases Dataset(Augmented)/New Plant Diseases Dataset(Augmented)/train/Grape___Leaf_blight_(Isariopsis_Leaf_Spot)',\n",
              " '/content/new-plant-diseases-dataset/New Plant Diseases Dataset(Augmented)/New Plant Diseases Dataset(Augmented)/train/Tomato___Early_blight',\n",
              " '/content/new-plant-diseases-dataset/New Plant Diseases Dataset(Augmented)/New Plant Diseases Dataset(Augmented)/train/Soybean___healthy',\n",
              " '/content/new-plant-diseases-dataset/New Plant Diseases Dataset(Augmented)/New Plant Diseases Dataset(Augmented)/train/Corn_(maize)___healthy',\n",
              " '/content/new-plant-diseases-dataset/New Plant Diseases Dataset(Augmented)/New Plant Diseases Dataset(Augmented)/train/Orange___Haunglongbing_(Citrus_greening)',\n",
              " '/content/new-plant-diseases-dataset/New Plant Diseases Dataset(Augmented)/New Plant Diseases Dataset(Augmented)/train/Apple___Apple_scab',\n",
              " '/content/new-plant-diseases-dataset/New Plant Diseases Dataset(Augmented)/New Plant Diseases Dataset(Augmented)/train/Tomato___Late_blight',\n",
              " '/content/new-plant-diseases-dataset/New Plant Diseases Dataset(Augmented)/New Plant Diseases Dataset(Augmented)/train/Pepper,_bell___Bacterial_spot',\n",
              " '/content/new-plant-diseases-dataset/New Plant Diseases Dataset(Augmented)/New Plant Diseases Dataset(Augmented)/train/Tomato___Bacterial_spot',\n",
              " '/content/new-plant-diseases-dataset/New Plant Diseases Dataset(Augmented)/New Plant Diseases Dataset(Augmented)/train/Raspberry___healthy',\n",
              " '/content/new-plant-diseases-dataset/New Plant Diseases Dataset(Augmented)/New Plant Diseases Dataset(Augmented)/train/Pepper,_bell___healthy',\n",
              " '/content/new-plant-diseases-dataset/New Plant Diseases Dataset(Augmented)/New Plant Diseases Dataset(Augmented)/train/Strawberry___healthy',\n",
              " '/content/new-plant-diseases-dataset/New Plant Diseases Dataset(Augmented)/New Plant Diseases Dataset(Augmented)/train/Peach___Bacterial_spot',\n",
              " '/content/new-plant-diseases-dataset/New Plant Diseases Dataset(Augmented)/New Plant Diseases Dataset(Augmented)/train/Cherry_(including_sour)___healthy',\n",
              " '/content/new-plant-diseases-dataset/New Plant Diseases Dataset(Augmented)/New Plant Diseases Dataset(Augmented)/train/Potato___healthy',\n",
              " '/content/new-plant-diseases-dataset/New Plant Diseases Dataset(Augmented)/New Plant Diseases Dataset(Augmented)/train/Squash___Powdery_mildew',\n",
              " '/content/new-plant-diseases-dataset/New Plant Diseases Dataset(Augmented)/New Plant Diseases Dataset(Augmented)/train/Potato___Late_blight',\n",
              " '/content/new-plant-diseases-dataset/New Plant Diseases Dataset(Augmented)/New Plant Diseases Dataset(Augmented)/train/Grape___healthy',\n",
              " '/content/new-plant-diseases-dataset/New Plant Diseases Dataset(Augmented)/New Plant Diseases Dataset(Augmented)/train/Apple___Black_rot',\n",
              " '/content/new-plant-diseases-dataset/New Plant Diseases Dataset(Augmented)/New Plant Diseases Dataset(Augmented)/train/Corn_(maize)___Northern_Leaf_Blight',\n",
              " '/content/new-plant-diseases-dataset/New Plant Diseases Dataset(Augmented)/New Plant Diseases Dataset(Augmented)/train/Tomato___Septoria_leaf_spot',\n",
              " '/content/new-plant-diseases-dataset/New Plant Diseases Dataset(Augmented)/New Plant Diseases Dataset(Augmented)/train/Potato___Early_blight',\n",
              " '/content/new-plant-diseases-dataset/New Plant Diseases Dataset(Augmented)/New Plant Diseases Dataset(Augmented)/train/Peach___healthy',\n",
              " '/content/new-plant-diseases-dataset/New Plant Diseases Dataset(Augmented)/New Plant Diseases Dataset(Augmented)/train/Tomato___Target_Spot',\n",
              " '/content/new-plant-diseases-dataset/New Plant Diseases Dataset(Augmented)/New Plant Diseases Dataset(Augmented)/train/Apple___Cedar_apple_rust']"
            ]
          },
          "metadata": {},
          "execution_count": 13
        }
      ],
      "source": [
        "# used to get number output classes\n",
        "folders=glob('/content/new-plant-diseases-dataset/New Plant Diseases Dataset(Augmented)/New Plant Diseases Dataset(Augmented)/train/*')\n",
        "folders"
      ]
    },
    {
      "cell_type": "markdown",
      "id": "23f1c5a7",
      "metadata": {
        "papermill": {
          "duration": 0.010326,
          "end_time": "2022-10-01T12:43:18.138328",
          "exception": false,
          "start_time": "2022-10-01T12:43:18.128002",
          "status": "completed"
        },
        "tags": [],
        "id": "23f1c5a7"
      },
      "source": [
        "**Find the predictions and feed it to the model and Creating model object**"
      ]
    },
    {
      "cell_type": "code",
      "execution_count": null,
      "id": "c10b35c2",
      "metadata": {
        "execution": {
          "iopub.execute_input": "2022-10-01T12:43:18.161084Z",
          "iopub.status.busy": "2022-10-01T12:43:18.160682Z",
          "iopub.status.idle": "2022-10-01T12:43:18.194984Z",
          "shell.execute_reply": "2022-10-01T12:43:18.193824Z"
        },
        "papermill": {
          "duration": 0.048798,
          "end_time": "2022-10-01T12:43:18.197768",
          "exception": false,
          "start_time": "2022-10-01T12:43:18.148970",
          "status": "completed"
        },
        "tags": [],
        "id": "c10b35c2"
      },
      "outputs": [],
      "source": [
        "prediction = Dense(len(folders), activation='softmax')(x)\n",
        "model=Model(inputs=inception.input,outputs=prediction)"
      ]
    },
    {
      "cell_type": "code",
      "execution_count": null,
      "id": "0466a3ef",
      "metadata": {
        "execution": {
          "iopub.execute_input": "2022-10-01T12:43:18.221316Z",
          "iopub.status.busy": "2022-10-01T12:43:18.220513Z",
          "iopub.status.idle": "2022-10-01T12:43:18.238823Z",
          "shell.execute_reply": "2022-10-01T12:43:18.237739Z"
        },
        "papermill": {
          "duration": 0.033481,
          "end_time": "2022-10-01T12:43:18.241653",
          "exception": false,
          "start_time": "2022-10-01T12:43:18.208172",
          "status": "completed"
        },
        "tags": [],
        "id": "0466a3ef"
      },
      "outputs": [],
      "source": [
        "# tell the model what cost and optimization method to use\n",
        "model.compile(loss='categorical_crossentropy',optimizer='adam',metrics=['accuracy'])"
      ]
    },
    {
      "cell_type": "markdown",
      "id": "1b0a91ac",
      "metadata": {
        "papermill": {
          "duration": 0.009901,
          "end_time": "2022-10-01T12:43:18.262017",
          "exception": false,
          "start_time": "2022-10-01T12:43:18.252116",
          "status": "completed"
        },
        "tags": [],
        "id": "1b0a91ac"
      },
      "source": [
        "**Use Image Data generator to import images from folder and for data augmentation**"
      ]
    },
    {
      "cell_type": "code",
      "execution_count": null,
      "id": "f78b8c6b",
      "metadata": {
        "execution": {
          "iopub.execute_input": "2022-10-01T12:43:18.284692Z",
          "iopub.status.busy": "2022-10-01T12:43:18.284057Z",
          "iopub.status.idle": "2022-10-01T12:43:18.289727Z",
          "shell.execute_reply": "2022-10-01T12:43:18.288920Z"
        },
        "papermill": {
          "duration": 0.019517,
          "end_time": "2022-10-01T12:43:18.291791",
          "exception": false,
          "start_time": "2022-10-01T12:43:18.272274",
          "status": "completed"
        },
        "tags": [],
        "id": "f78b8c6b"
      },
      "outputs": [],
      "source": [
        "train_datagen = ImageDataGenerator(rescale = 1./255,\n",
        "                                   shear_range = 0.2,\n",
        "                                   zoom_range = 0.2,\n",
        "                                   horizontal_flip = True)\n",
        "\n",
        "test_datagen = ImageDataGenerator(rescale = 1./255)"
      ]
    },
    {
      "cell_type": "code",
      "execution_count": null,
      "id": "4c1146a7",
      "metadata": {
        "execution": {
          "iopub.execute_input": "2022-10-01T12:43:18.314305Z",
          "iopub.status.busy": "2022-10-01T12:43:18.313701Z",
          "iopub.status.idle": "2022-10-01T12:43:18.629229Z",
          "shell.execute_reply": "2022-10-01T12:43:18.626286Z"
        },
        "papermill": {
          "duration": 0.33121,
          "end_time": "2022-10-01T12:43:18.633372",
          "exception": false,
          "start_time": "2022-10-01T12:43:18.302162",
          "status": "completed"
        },
        "tags": [],
        "id": "4c1146a7",
        "outputId": "800c7beb-c24c-4974-83cb-560603818fd0",
        "colab": {
          "base_uri": "https://localhost:8080/"
        }
      },
      "outputs": [
        {
          "output_type": "stream",
          "name": "stdout",
          "text": [
            "Found 70295 images belonging to 38 classes.\n"
          ]
        }
      ],
      "source": [
        "training_set = train_datagen.flow_from_directory('/content/new-plant-diseases-dataset/New Plant Diseases Dataset(Augmented)/New Plant Diseases Dataset(Augmented)/train',\n",
        "                                                 target_size = (224, 224),\n",
        "                                                 batch_size = 128,\n",
        "                                                 class_mode = 'categorical')"
      ]
    },
    {
      "cell_type": "code",
      "execution_count": null,
      "id": "cb79216b",
      "metadata": {
        "execution": {
          "iopub.execute_input": "2022-10-01T12:43:18.663188Z",
          "iopub.status.busy": "2022-10-01T12:43:18.661861Z",
          "iopub.status.idle": "2022-10-01T12:43:18.773204Z",
          "shell.execute_reply": "2022-10-01T12:43:18.772385Z"
        },
        "papermill": {
          "duration": 0.127686,
          "end_time": "2022-10-01T12:43:18.775808",
          "exception": false,
          "start_time": "2022-10-01T12:43:18.648122",
          "status": "completed"
        },
        "tags": [],
        "id": "cb79216b",
        "outputId": "ac08b389-8209-4e27-9b01-2bac841d807c",
        "colab": {
          "base_uri": "https://localhost:8080/"
        }
      },
      "outputs": [
        {
          "output_type": "stream",
          "name": "stdout",
          "text": [
            "Found 17572 images belonging to 38 classes.\n"
          ]
        }
      ],
      "source": [
        "test_set = test_datagen.flow_from_directory('/content/new-plant-diseases-dataset/New Plant Diseases Dataset(Augmented)/New Plant Diseases Dataset(Augmented)/valid',\n",
        "                                            target_size = (224, 224),\n",
        "                                            batch_size =128,\n",
        "                                            class_mode = 'categorical')"
      ]
    },
    {
      "cell_type": "code",
      "execution_count": null,
      "id": "4a253ce5",
      "metadata": {
        "execution": {
          "iopub.execute_input": "2022-10-01T12:43:18.800811Z",
          "iopub.status.busy": "2022-10-01T12:43:18.800045Z",
          "iopub.status.idle": "2022-10-01T13:29:43.147567Z",
          "shell.execute_reply": "2022-10-01T13:29:43.146042Z"
        },
        "papermill": {
          "duration": 2784.447692,
          "end_time": "2022-10-01T13:29:43.235426",
          "exception": false,
          "start_time": "2022-10-01T12:43:18.787734",
          "status": "completed"
        },
        "tags": [],
        "id": "4a253ce5",
        "outputId": "8289d18b-ece7-4938-a25f-4b121aa36047",
        "colab": {
          "base_uri": "https://localhost:8080/"
        }
      },
      "outputs": [
        {
          "output_type": "stream",
          "name": "stdout",
          "text": [
            "Epoch 1/5\n",
            "550/550 [==============================] - 849s 2s/step - loss: 2.0257 - accuracy: 0.7876 - val_loss: 1.6633 - val_accuracy: 0.8194\n",
            "Epoch 2/5\n",
            "550/550 [==============================] - 826s 2s/step - loss: 1.0811 - accuracy: 0.8804 - val_loss: 1.0872 - val_accuracy: 0.8890\n",
            "Epoch 3/5\n",
            "550/550 [==============================] - 815s 1s/step - loss: 1.1138 - accuracy: 0.8965 - val_loss: 1.1614 - val_accuracy: 0.8979\n",
            "Epoch 4/5\n",
            "550/550 [==============================] - 813s 1s/step - loss: 1.0187 - accuracy: 0.9108 - val_loss: 1.2565 - val_accuracy: 0.9096\n",
            "Epoch 5/5\n",
            "550/550 [==============================] - 810s 1s/step - loss: 0.9799 - accuracy: 0.9210 - val_loss: 1.3643 - val_accuracy: 0.9042\n"
          ]
        }
      ],
      "source": [
        "r=model.fit(training_set, validation_data=test_set,epochs=5,steps_per_epoch=len(training_set),validation_steps=len(test_set))"
      ]
    },
    {
      "cell_type": "code",
      "execution_count": null,
      "id": "02e8a037",
      "metadata": {
        "execution": {
          "iopub.execute_input": "2022-10-01T13:29:43.411693Z",
          "iopub.status.busy": "2022-10-01T13:29:43.411296Z",
          "iopub.status.idle": "2022-10-01T13:29:43.652838Z",
          "shell.execute_reply": "2022-10-01T13:29:43.651655Z"
        },
        "papermill": {
          "duration": 0.332403,
          "end_time": "2022-10-01T13:29:43.655519",
          "exception": false,
          "start_time": "2022-10-01T13:29:43.323116",
          "status": "completed"
        },
        "tags": [],
        "id": "02e8a037",
        "outputId": "503dcd02-6d86-4594-d1c4-f71a953d6008",
        "colab": {
          "base_uri": "https://localhost:8080/",
          "height": 282
        }
      },
      "outputs": [
        {
          "output_type": "display_data",
          "data": {
            "text/plain": [
              "<Figure size 432x288 with 1 Axes>"
            ],
            "image/png": "[encoded data removed]"
          },
          "metadata": {
            "needs_background": "light"
          }
        },
        {
          "output_type": "display_data",
          "data": {
            "text/plain": [
              "<Figure size 432x288 with 0 Axes>"
            ]
          },
          "metadata": {}
        }
      ],
      "source": [
        "# plot the accuracy InceptionV3\n",
        "plt.plot(r.history['accuracy'], label='train acc')\n",
        "plt.plot(r.history['val_accuracy'], label='val acc')\n",
        "plt.legend()\n",
        "plt.show()\n",
        "plt.savefig('AccVal_acc')"
      ]
    },
    {
      "cell_type": "code",
      "execution_count": null,
      "id": "1c1805f3",
      "metadata": {
        "execution": {
          "iopub.execute_input": "2022-10-01T13:29:43.839952Z",
          "iopub.status.busy": "2022-10-01T13:29:43.839192Z",
          "iopub.status.idle": "2022-10-01T13:29:44.060254Z",
          "shell.execute_reply": "2022-10-01T13:29:44.059197Z"
        },
        "papermill": {
          "duration": 0.313513,
          "end_time": "2022-10-01T13:29:44.062481",
          "exception": false,
          "start_time": "2022-10-01T13:29:43.748968",
          "status": "completed"
        },
        "tags": [],
        "id": "1c1805f3",
        "colab": {
          "base_uri": "https://localhost:8080/",
          "height": 282
        },
        "outputId": "f4b4dc3b-5383-43cc-9d8e-16cfc102e241"
      },
      "outputs": [
        {
          "output_type": "display_data",
          "data": {
            "text/plain": [
              "<Figure size 432x288 with 1 Axes>"
            ],
            "image/png": "[encoded data removed]"
          },
          "metadata": {
            "needs_background": "light"
          }
        },
        {
          "output_type": "display_data",
          "data": {
            "text/plain": [
              "<Figure size 432x288 with 0 Axes>"
            ]
          },
          "metadata": {}
        }
      ],
      "source": [
        "# plot the accuracy InceptionV3\n",
        "plt.plot(r.history['accuracy'], label='train acc')\n",
        "plt.plot(r.history['val_accuracy'], label='val acc')\n",
        "plt.legend()\n",
        "plt.show()\n",
        "plt.savefig('AccVal_acc')"
      ]
    },
    {
      "cell_type": "code",
      "source": [
        "from tensorflow.keras.models import load_model\n",
        "\n",
        "model.save('disease.h5')"
      ],
      "metadata": {
        "id": "w5n-TU5Oov2O"
      },
      "id": "w5n-TU5Oov2O",
      "execution_count": null,
      "outputs": []
    },
    {
      "cell_type": "code",
      "source": [
        "from google.colab import drive\n",
        "drive.mount('/content/gdrive')"
      ],
      "metadata": {
        "id": "7c2NiCYDtD5v",
        "colab": {
          "base_uri": "https://localhost:8080/"
        },
        "outputId": "dc4ea551-d580-4bbc-a6f3-d20d1d7cf7d7"
      },
      "id": "7c2NiCYDtD5v",
      "execution_count": null,
      "outputs": [
        {
          "output_type": "stream",
          "name": "stdout",
          "text": [
            "Mounted at /content/gdrive\n"
          ]
        }
      ]
    },
    {
      "cell_type": "code",
      "source": [
        "model_save_name = 'disease.h5'\n",
        "path = F\"/content/gdrive/My Drive/{model_save_name}\" \n",
        "model.save(path)"
      ],
      "metadata": {
        "id": "zafBRR1ztF2s"
      },
      "id": "zafBRR1ztF2s",
      "execution_count": null,
      "outputs": []
    }
  ],
  "metadata": {
    "kernelspec": {
      "display_name": "Python 3",
      "language": "python",
      "name": "python3"
    },
    "language_info": {
      "codemirror_mode": {
        "name": "ipython",
        "version": 3
      },
      "file_extension": ".py",
      "mimetype": "text/x-python",
      "name": "python",
      "nbconvert_exporter": "python",
      "pygments_lexer": "ipython3",
      "version": "3.7.12"
    },
    "papermill": {
      "default_parameters": {},
      "duration": 17612.579989,
      "end_time": "2022-10-01T17:36:31.321583",
      "environment_variables": {},
      "exception": null,
      "input_path": "__notebook__.ipynb",
      "output_path": "__notebook__.ipynb",
      "parameters": {},
      "start_time": "2022-10-01T12:42:58.741594",
      "version": "2.3.4"
    },
    "colab": {
      "provenance": [],
      "collapsed_sections": [
        "1fc801d4",
        "920ad86d"
      ]
    },
    "accelerator": "GPU"
  },
  "nbformat": 4,
  "nbformat_minor": 5
}