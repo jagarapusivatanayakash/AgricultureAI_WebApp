{
 "cells": [
  {
   "cell_type": "code",
   "execution_count": 1,
   "id": "6b6a11b6",
   "metadata": {
    "_cell_guid": "b1076dfc-b9ad-4769-8c92-a6c4dae69d19",
    "_uuid": "8f2839f25d086af736a60e9eeb907d3b93b6e0e5",
    "execution": {
     "iopub.execute_input": "2022-07-25T06:49:36.699342Z",
     "iopub.status.busy": "2022-07-25T06:49:36.698743Z",
     "iopub.status.idle": "2022-07-25T06:49:38.007314Z",
     "shell.execute_reply": "2022-07-25T06:49:38.006113Z"
    },
    "papermill": {
     "duration": 1.322094,
     "end_time": "2022-07-25T06:49:38.010540",
     "exception": false,
     "start_time": "2022-07-25T06:49:36.688446",
     "status": "completed"
    },
    "tags": []
   },
   "outputs": [],
   "source": [
    "import pandas as pd\n",
    "from sklearn.tree import DecisionTreeClassifier\n",
    "from sklearn.model_selection import train_test_split\n",
    "from sklearn.preprocessing import LabelEncoder"
   ]
  },
  {
   "cell_type": "code",
   "execution_count": 2,
   "id": "4afb5d45",
   "metadata": {
    "execution": {
     "iopub.execute_input": "2022-07-25T06:49:38.027740Z",
     "iopub.status.busy": "2022-07-25T06:49:38.026534Z",
     "iopub.status.idle": "2022-07-25T06:49:38.069448Z",
     "shell.execute_reply": "2022-07-25T06:49:38.068306Z"
    },
    "papermill": {
     "duration": 0.054587,
     "end_time": "2022-07-25T06:49:38.072452",
     "exception": false,
     "start_time": "2022-07-25T06:49:38.017865",
     "status": "completed"
    },
    "tags": []
   },
   "outputs": [
    {
     "data": {
      "text/html": [
       "<div>\n",
       "<style scoped>\n",
       "    .dataframe tbody tr th:only-of-type {\n",
       "        vertical-align: middle;\n",
       "    }\n",
       "\n",
       "    .dataframe tbody tr th {\n",
       "        vertical-align: top;\n",
       "    }\n",
       "\n",
       "    .dataframe thead th {\n",
       "        text-align: right;\n",
       "    }\n",
       "</style>\n",
       "<table border=\"1\" class=\"dataframe\">\n",
       "  <thead>\n",
       "    <tr style=\"text-align: right;\">\n",
       "      <th></th>\n",
       "      <th>Temparature</th>\n",
       "      <th>Humidity</th>\n",
       "      <th>Moisture</th>\n",
       "      <th>Soil Type</th>\n",
       "      <th>Crop Type</th>\n",
       "      <th>Nitrogen</th>\n",
       "      <th>Potassium</th>\n",
       "      <th>Phosphorous</th>\n",
       "      <th>Fertilizer Name</th>\n",
       "    </tr>\n",
       "  </thead>\n",
       "  <tbody>\n",
       "    <tr>\n",
       "      <th>0</th>\n",
       "      <td>26</td>\n",
       "      <td>52</td>\n",
       "      <td>38</td>\n",
       "      <td>Sandy</td>\n",
       "      <td>Maize</td>\n",
       "      <td>37</td>\n",
       "      <td>0</td>\n",
       "      <td>0</td>\n",
       "      <td>Urea</td>\n",
       "    </tr>\n",
       "    <tr>\n",
       "      <th>1</th>\n",
       "      <td>29</td>\n",
       "      <td>52</td>\n",
       "      <td>45</td>\n",
       "      <td>Loamy</td>\n",
       "      <td>Sugarcane</td>\n",
       "      <td>12</td>\n",
       "      <td>0</td>\n",
       "      <td>36</td>\n",
       "      <td>DAP</td>\n",
       "    </tr>\n",
       "    <tr>\n",
       "      <th>2</th>\n",
       "      <td>34</td>\n",
       "      <td>65</td>\n",
       "      <td>62</td>\n",
       "      <td>Black</td>\n",
       "      <td>Cotton</td>\n",
       "      <td>7</td>\n",
       "      <td>9</td>\n",
       "      <td>30</td>\n",
       "      <td>14-35-14</td>\n",
       "    </tr>\n",
       "    <tr>\n",
       "      <th>3</th>\n",
       "      <td>32</td>\n",
       "      <td>62</td>\n",
       "      <td>34</td>\n",
       "      <td>Red</td>\n",
       "      <td>Tobacco</td>\n",
       "      <td>22</td>\n",
       "      <td>0</td>\n",
       "      <td>20</td>\n",
       "      <td>28-28</td>\n",
       "    </tr>\n",
       "    <tr>\n",
       "      <th>4</th>\n",
       "      <td>28</td>\n",
       "      <td>54</td>\n",
       "      <td>46</td>\n",
       "      <td>Clayey</td>\n",
       "      <td>Paddy</td>\n",
       "      <td>35</td>\n",
       "      <td>0</td>\n",
       "      <td>0</td>\n",
       "      <td>Urea</td>\n",
       "    </tr>\n",
       "  </tbody>\n",
       "</table>\n",
       "</div>"
      ],
      "text/plain": [
       "   Temparature  Humidity   Moisture Soil Type  Crop Type  Nitrogen  Potassium  \\\n",
       "0           26         52        38     Sandy      Maize        37          0   \n",
       "1           29         52        45     Loamy  Sugarcane        12          0   \n",
       "2           34         65        62     Black     Cotton         7          9   \n",
       "3           32         62        34       Red    Tobacco        22          0   \n",
       "4           28         54        46    Clayey      Paddy        35          0   \n",
       "\n",
       "   Phosphorous Fertilizer Name  \n",
       "0            0            Urea  \n",
       "1           36             DAP  \n",
       "2           30        14-35-14  \n",
       "3           20           28-28  \n",
       "4            0            Urea  "
      ]
     },
     "execution_count": 2,
     "metadata": {},
     "output_type": "execute_result"
    }
   ],
   "source": [
    "df = pd.read_csv(\"Fertilizer Prediction.csv\")\n",
    "df.head()"
   ]
  },
  {
   "cell_type": "code",
   "execution_count": 3,
   "id": "1e98040c",
   "metadata": {
    "execution": {
     "iopub.execute_input": "2022-07-25T06:49:38.089768Z",
     "iopub.status.busy": "2022-07-25T06:49:38.089137Z",
     "iopub.status.idle": "2022-07-25T06:49:38.102752Z",
     "shell.execute_reply": "2022-07-25T06:49:38.101545Z"
    },
    "papermill": {
     "duration": 0.024991,
     "end_time": "2022-07-25T06:49:38.104971",
     "exception": false,
     "start_time": "2022-07-25T06:49:38.079980",
     "status": "completed"
    },
    "tags": []
   },
   "outputs": [
    {
     "data": {
      "text/plain": [
       "array(['Urea', 'DAP', '14-35-14', '28-28', '17-17-17', '20-20',\n",
       "       '10-26-26'], dtype=object)"
      ]
     },
     "execution_count": 3,
     "metadata": {},
     "output_type": "execute_result"
    }
   ],
   "source": [
    "df[\"Fertilizer Name\"].unique()"
   ]
  },
  {
   "cell_type": "code",
   "execution_count": 4,
   "id": "e647e8a2",
   "metadata": {
    "execution": {
     "iopub.execute_input": "2022-07-25T06:49:38.122036Z",
     "iopub.status.busy": "2022-07-25T06:49:38.121317Z",
     "iopub.status.idle": "2022-07-25T06:49:38.129476Z",
     "shell.execute_reply": "2022-07-25T06:49:38.128723Z"
    },
    "papermill": {
     "duration": 0.019092,
     "end_time": "2022-07-25T06:49:38.131586",
     "exception": false,
     "start_time": "2022-07-25T06:49:38.112494",
     "status": "completed"
    },
    "tags": []
   },
   "outputs": [
    {
     "data": {
      "text/plain": [
       "Temparature        0\n",
       "Humidity           0\n",
       "Moisture           0\n",
       "Soil Type          0\n",
       "Crop Type          0\n",
       "Nitrogen           0\n",
       "Potassium          0\n",
       "Phosphorous        0\n",
       "Fertilizer Name    0\n",
       "dtype: int64"
      ]
     },
     "execution_count": 4,
     "metadata": {},
     "output_type": "execute_result"
    }
   ],
   "source": [
    "df.isnull().sum()"
   ]
  },
  {
   "cell_type": "code",
   "execution_count": 5,
   "id": "34fbe4cb",
   "metadata": {
    "execution": {
     "iopub.execute_input": "2022-07-25T06:49:38.148677Z",
     "iopub.status.busy": "2022-07-25T06:49:38.147982Z",
     "iopub.status.idle": "2022-07-25T06:49:38.157072Z",
     "shell.execute_reply": "2022-07-25T06:49:38.156132Z"
    },
    "papermill": {
     "duration": 0.019997,
     "end_time": "2022-07-25T06:49:38.159152",
     "exception": false,
     "start_time": "2022-07-25T06:49:38.139155",
     "status": "completed"
    },
    "tags": []
   },
   "outputs": [
    {
     "data": {
      "text/plain": [
       "LabelEncoder()"
      ]
     },
     "execution_count": 5,
     "metadata": {},
     "output_type": "execute_result"
    }
   ],
   "source": [
    "LE = LabelEncoder()\n",
    "LE.fit(df[\"Soil Type\"])"
   ]
  },
  {
   "cell_type": "code",
   "execution_count": 6,
   "id": "da3c18b0",
   "metadata": {
    "execution": {
     "iopub.execute_input": "2022-07-25T06:49:38.176776Z",
     "iopub.status.busy": "2022-07-25T06:49:38.176062Z",
     "iopub.status.idle": "2022-07-25T06:49:38.181630Z",
     "shell.execute_reply": "2022-07-25T06:49:38.180867Z"
    },
    "papermill": {
     "duration": 0.016681,
     "end_time": "2022-07-25T06:49:38.183602",
     "exception": false,
     "start_time": "2022-07-25T06:49:38.166921",
     "status": "completed"
    },
    "tags": []
   },
   "outputs": [
    {
     "data": {
      "text/plain": [
       "array(['Black', 'Clayey', 'Loamy', 'Red', 'Sandy'], dtype=object)"
      ]
     },
     "execution_count": 6,
     "metadata": {},
     "output_type": "execute_result"
    }
   ],
   "source": [
    "LE.classes_"
   ]
  },
  {
   "cell_type": "code",
   "execution_count": 7,
   "id": "92fd3823",
   "metadata": {},
   "outputs": [],
   "source": [
    "import pickle\n",
    "label_soil = 'le_soil.pkl'\n",
    "soil= open(label_soil, 'wb')\n",
    "pickle.dump(LE,soil)"
   ]
  },
  {
   "cell_type": "code",
   "execution_count": 8,
   "id": "6c0f5d37",
   "metadata": {
    "execution": {
     "iopub.execute_input": "2022-07-25T06:49:38.201047Z",
     "iopub.status.busy": "2022-07-25T06:49:38.200376Z",
     "iopub.status.idle": "2022-07-25T06:49:38.205502Z",
     "shell.execute_reply": "2022-07-25T06:49:38.204727Z"
    },
    "papermill": {
     "duration": 0.016427,
     "end_time": "2022-07-25T06:49:38.207634",
     "exception": false,
     "start_time": "2022-07-25T06:49:38.191207",
     "status": "completed"
    },
    "tags": []
   },
   "outputs": [],
   "source": [
    "df[\"Soil Type\"] = LE.transform(df[\"Soil Type\"])\n"
   ]
  },
  {
   "cell_type": "code",
   "execution_count": 9,
   "id": "fd09ed73",
   "metadata": {
    "execution": {
     "iopub.execute_input": "2022-07-25T06:49:38.224929Z",
     "iopub.status.busy": "2022-07-25T06:49:38.224548Z",
     "iopub.status.idle": "2022-07-25T06:49:38.231844Z",
     "shell.execute_reply": "2022-07-25T06:49:38.231091Z"
    },
    "papermill": {
     "duration": 0.01831,
     "end_time": "2022-07-25T06:49:38.233762",
     "exception": false,
     "start_time": "2022-07-25T06:49:38.215452",
     "status": "completed"
    },
    "tags": []
   },
   "outputs": [
    {
     "data": {
      "text/plain": [
       "0     4\n",
       "1     2\n",
       "2     0\n",
       "3     3\n",
       "4     1\n",
       "     ..\n",
       "94    1\n",
       "95    3\n",
       "96    2\n",
       "97    4\n",
       "98    0\n",
       "Name: Soil Type, Length: 99, dtype: int32"
      ]
     },
     "execution_count": 9,
     "metadata": {},
     "output_type": "execute_result"
    }
   ],
   "source": [
    "df[\"Soil Type\"]"
   ]
  },
  {
   "cell_type": "code",
   "execution_count": 10,
   "id": "4cb2d782",
   "metadata": {
    "execution": {
     "iopub.execute_input": "2022-07-25T06:49:38.251346Z",
     "iopub.status.busy": "2022-07-25T06:49:38.250707Z",
     "iopub.status.idle": "2022-07-25T06:49:38.255956Z",
     "shell.execute_reply": "2022-07-25T06:49:38.255087Z"
    },
    "papermill": {
     "duration": 0.01625,
     "end_time": "2022-07-25T06:49:38.257856",
     "exception": false,
     "start_time": "2022-07-25T06:49:38.241606",
     "status": "completed"
    },
    "tags": []
   },
   "outputs": [],
   "source": [
    "LE_crop = LabelEncoder().fit(df[\"Crop Type\"])\n",
    "df[\"Crop Type\"] = LE_crop.transform(df[\"Crop Type\"])"
   ]
  },
  {
   "cell_type": "code",
   "execution_count": 11,
   "id": "7f6876dd",
   "metadata": {
    "execution": {
     "iopub.execute_input": "2022-07-25T06:49:38.275361Z",
     "iopub.status.busy": "2022-07-25T06:49:38.274723Z",
     "iopub.status.idle": "2022-07-25T06:49:38.281769Z",
     "shell.execute_reply": "2022-07-25T06:49:38.281004Z"
    },
    "papermill": {
     "duration": 0.018072,
     "end_time": "2022-07-25T06:49:38.283647",
     "exception": false,
     "start_time": "2022-07-25T06:49:38.265575",
     "status": "completed"
    },
    "tags": []
   },
   "outputs": [
    {
     "data": {
      "text/plain": [
       "0      3\n",
       "1      8\n",
       "2      1\n",
       "3      9\n",
       "4      6\n",
       "      ..\n",
       "94     7\n",
       "95     9\n",
       "96    10\n",
       "97     4\n",
       "98     8\n",
       "Name: Crop Type, Length: 99, dtype: int32"
      ]
     },
     "execution_count": 11,
     "metadata": {},
     "output_type": "execute_result"
    }
   ],
   "source": [
    "df[\"Crop Type\"]"
   ]
  },
  {
   "cell_type": "code",
   "execution_count": 12,
   "id": "bb6d1a3a",
   "metadata": {},
   "outputs": [],
   "source": [
    "import pickle\n",
    "label_crop = 'le_crop.pkl'\n",
    "crop= open(label_crop, 'wb')\n",
    "pickle.dump(LE_crop,crop)"
   ]
  },
  {
   "cell_type": "code",
   "execution_count": 13,
   "id": "886dd716",
   "metadata": {
    "execution": {
     "iopub.execute_input": "2022-07-25T06:49:38.301435Z",
     "iopub.status.busy": "2022-07-25T06:49:38.300800Z",
     "iopub.status.idle": "2022-07-25T06:49:38.306655Z",
     "shell.execute_reply": "2022-07-25T06:49:38.305894Z"
    },
    "papermill": {
     "duration": 0.017333,
     "end_time": "2022-07-25T06:49:38.308732",
     "exception": false,
     "start_time": "2022-07-25T06:49:38.291399",
     "status": "completed"
    },
    "tags": []
   },
   "outputs": [
    {
     "data": {
      "text/plain": [
       "Index(['Temparature', 'Humidity ', 'Moisture', 'Soil Type', 'Crop Type',\n",
       "       'Nitrogen', 'Potassium', 'Phosphorous', 'Fertilizer Name'],\n",
       "      dtype='object')"
      ]
     },
     "execution_count": 13,
     "metadata": {},
     "output_type": "execute_result"
    }
   ],
   "source": [
    "df.columns"
   ]
  },
  {
   "cell_type": "code",
   "execution_count": 14,
   "id": "2c760993",
   "metadata": {
    "execution": {
     "iopub.execute_input": "2022-07-25T06:49:38.327773Z",
     "iopub.status.busy": "2022-07-25T06:49:38.327097Z",
     "iopub.status.idle": "2022-07-25T06:49:38.338043Z",
     "shell.execute_reply": "2022-07-25T06:49:38.336989Z"
    },
    "papermill": {
     "duration": 0.023369,
     "end_time": "2022-07-25T06:49:38.340205",
     "exception": false,
     "start_time": "2022-07-25T06:49:38.316836",
     "status": "completed"
    },
    "tags": []
   },
   "outputs": [],
   "source": [
    "x_train, x_test, y_train, y_test = train_test_split(df[[\"Temparature\",\"Humidity \",\"Moisture\",\"Soil Type\",\"Crop Type\",\"Nitrogen\",\"Potassium\",\"Phosphorous\"]],\n",
    "                                                    df[[\"Fertilizer Name\"]],\n",
    "                                                    test_size=0.2)"
   ]
  },
  {
   "cell_type": "code",
   "execution_count": 15,
   "id": "2edf509c",
   "metadata": {
    "execution": {
     "iopub.execute_input": "2022-07-25T06:49:38.358874Z",
     "iopub.status.busy": "2022-07-25T06:49:38.358167Z",
     "iopub.status.idle": "2022-07-25T06:49:38.363781Z",
     "shell.execute_reply": "2022-07-25T06:49:38.363022Z"
    },
    "papermill": {
     "duration": 0.017476,
     "end_time": "2022-07-25T06:49:38.365735",
     "exception": false,
     "start_time": "2022-07-25T06:49:38.348259",
     "status": "completed"
    },
    "tags": []
   },
   "outputs": [
    {
     "data": {
      "text/plain": [
       "((79, 8), (79, 1))"
      ]
     },
     "execution_count": 15,
     "metadata": {},
     "output_type": "execute_result"
    }
   ],
   "source": [
    "x_train.shape,y_train.shape"
   ]
  },
  {
   "cell_type": "code",
   "execution_count": 16,
   "id": "21a43e50",
   "metadata": {
    "execution": {
     "iopub.execute_input": "2022-07-25T06:49:38.384500Z",
     "iopub.status.busy": "2022-07-25T06:49:38.383809Z",
     "iopub.status.idle": "2022-07-25T06:49:38.389813Z",
     "shell.execute_reply": "2022-07-25T06:49:38.388734Z"
    },
    "papermill": {
     "duration": 0.017833,
     "end_time": "2022-07-25T06:49:38.391850",
     "exception": false,
     "start_time": "2022-07-25T06:49:38.374017",
     "status": "completed"
    },
    "tags": []
   },
   "outputs": [
    {
     "data": {
      "text/plain": [
       "((20, 8), (20, 1))"
      ]
     },
     "execution_count": 16,
     "metadata": {},
     "output_type": "execute_result"
    }
   ],
   "source": [
    "x_test.shape,y_test.shape"
   ]
  },
  {
   "cell_type": "code",
   "execution_count": 17,
   "id": "2b1289c5",
   "metadata": {
    "execution": {
     "iopub.execute_input": "2022-07-25T06:49:38.411038Z",
     "iopub.status.busy": "2022-07-25T06:49:38.410226Z",
     "iopub.status.idle": "2022-07-25T06:49:38.414456Z",
     "shell.execute_reply": "2022-07-25T06:49:38.413633Z"
    },
    "papermill": {
     "duration": 0.016424,
     "end_time": "2022-07-25T06:49:38.416615",
     "exception": false,
     "start_time": "2022-07-25T06:49:38.400191",
     "status": "completed"
    },
    "tags": []
   },
   "outputs": [],
   "source": [
    "# Decision Tree init\n",
    "model = DecisionTreeClassifier()"
   ]
  },
  {
   "cell_type": "code",
   "execution_count": 18,
   "id": "5fdaf28e",
   "metadata": {
    "execution": {
     "iopub.execute_input": "2022-07-25T06:49:38.437122Z",
     "iopub.status.busy": "2022-07-25T06:49:38.436418Z",
     "iopub.status.idle": "2022-07-25T06:49:38.448208Z",
     "shell.execute_reply": "2022-07-25T06:49:38.446761Z"
    },
    "papermill": {
     "duration": 0.025823,
     "end_time": "2022-07-25T06:49:38.451450",
     "exception": false,
     "start_time": "2022-07-25T06:49:38.425627",
     "status": "completed"
    },
    "tags": []
   },
   "outputs": [
    {
     "data": {
      "text/plain": [
       "DecisionTreeClassifier()"
      ]
     },
     "execution_count": 18,
     "metadata": {},
     "output_type": "execute_result"
    }
   ],
   "source": [
    "model.fit(x_train,y_train)"
   ]
  },
  {
   "cell_type": "code",
   "execution_count": 19,
   "id": "28e3892d",
   "metadata": {
    "execution": {
     "iopub.execute_input": "2022-07-25T06:49:38.471617Z",
     "iopub.status.busy": "2022-07-25T06:49:38.470923Z",
     "iopub.status.idle": "2022-07-25T06:49:38.481270Z",
     "shell.execute_reply": "2022-07-25T06:49:38.480395Z"
    },
    "papermill": {
     "duration": 0.022523,
     "end_time": "2022-07-25T06:49:38.483521",
     "exception": false,
     "start_time": "2022-07-25T06:49:38.460998",
     "status": "completed"
    },
    "tags": []
   },
   "outputs": [
    {
     "data": {
      "text/plain": [
       "array(['14-35-14', '17-17-17', 'DAP', '28-28', '20-20', '10-26-26',\n",
       "       'Urea', '14-35-14', '14-35-14', 'DAP', '14-35-14', '14-35-14',\n",
       "       'DAP', 'DAP', '28-28', '20-20', 'DAP', '14-35-14', 'Urea', 'Urea'],\n",
       "      dtype=object)"
      ]
     },
     "execution_count": 19,
     "metadata": {},
     "output_type": "execute_result"
    }
   ],
   "source": [
    "prediction = model.predict(x_test)\n",
    "prediction"
   ]
  },
  {
   "cell_type": "code",
   "execution_count": 20,
   "id": "4b8b17de",
   "metadata": {
    "execution": {
     "iopub.execute_input": "2022-07-25T06:49:38.503273Z",
     "iopub.status.busy": "2022-07-25T06:49:38.502509Z",
     "iopub.status.idle": "2022-07-25T06:49:38.513104Z",
     "shell.execute_reply": "2022-07-25T06:49:38.512059Z"
    },
    "papermill": {
     "duration": 0.023102,
     "end_time": "2022-07-25T06:49:38.515313",
     "exception": false,
     "start_time": "2022-07-25T06:49:38.492211",
     "status": "completed"
    },
    "tags": []
   },
   "outputs": [
    {
     "data": {
      "text/html": [
       "<div>\n",
       "<style scoped>\n",
       "    .dataframe tbody tr th:only-of-type {\n",
       "        vertical-align: middle;\n",
       "    }\n",
       "\n",
       "    .dataframe tbody tr th {\n",
       "        vertical-align: top;\n",
       "    }\n",
       "\n",
       "    .dataframe thead th {\n",
       "        text-align: right;\n",
       "    }\n",
       "</style>\n",
       "<table border=\"1\" class=\"dataframe\">\n",
       "  <thead>\n",
       "    <tr style=\"text-align: right;\">\n",
       "      <th></th>\n",
       "      <th>Fertilizer Name</th>\n",
       "    </tr>\n",
       "  </thead>\n",
       "  <tbody>\n",
       "    <tr>\n",
       "      <th>85</th>\n",
       "      <td>14-35-14</td>\n",
       "    </tr>\n",
       "    <tr>\n",
       "      <th>78</th>\n",
       "      <td>10-26-26</td>\n",
       "    </tr>\n",
       "    <tr>\n",
       "      <th>79</th>\n",
       "      <td>DAP</td>\n",
       "    </tr>\n",
       "    <tr>\n",
       "      <th>62</th>\n",
       "      <td>28-28</td>\n",
       "    </tr>\n",
       "    <tr>\n",
       "      <th>51</th>\n",
       "      <td>20-20</td>\n",
       "    </tr>\n",
       "    <tr>\n",
       "      <th>63</th>\n",
       "      <td>10-26-26</td>\n",
       "    </tr>\n",
       "    <tr>\n",
       "      <th>18</th>\n",
       "      <td>Urea</td>\n",
       "    </tr>\n",
       "    <tr>\n",
       "      <th>26</th>\n",
       "      <td>14-35-14</td>\n",
       "    </tr>\n",
       "    <tr>\n",
       "      <th>91</th>\n",
       "      <td>10-26-26</td>\n",
       "    </tr>\n",
       "    <tr>\n",
       "      <th>22</th>\n",
       "      <td>DAP</td>\n",
       "    </tr>\n",
       "    <tr>\n",
       "      <th>67</th>\n",
       "      <td>14-35-14</td>\n",
       "    </tr>\n",
       "    <tr>\n",
       "      <th>2</th>\n",
       "      <td>14-35-14</td>\n",
       "    </tr>\n",
       "    <tr>\n",
       "      <th>28</th>\n",
       "      <td>DAP</td>\n",
       "    </tr>\n",
       "    <tr>\n",
       "      <th>1</th>\n",
       "      <td>DAP</td>\n",
       "    </tr>\n",
       "    <tr>\n",
       "      <th>70</th>\n",
       "      <td>28-28</td>\n",
       "    </tr>\n",
       "    <tr>\n",
       "      <th>20</th>\n",
       "      <td>20-20</td>\n",
       "    </tr>\n",
       "    <tr>\n",
       "      <th>44</th>\n",
       "      <td>DAP</td>\n",
       "    </tr>\n",
       "    <tr>\n",
       "      <th>49</th>\n",
       "      <td>14-35-14</td>\n",
       "    </tr>\n",
       "    <tr>\n",
       "      <th>60</th>\n",
       "      <td>Urea</td>\n",
       "    </tr>\n",
       "    <tr>\n",
       "      <th>35</th>\n",
       "      <td>Urea</td>\n",
       "    </tr>\n",
       "  </tbody>\n",
       "</table>\n",
       "</div>"
      ],
      "text/plain": [
       "   Fertilizer Name\n",
       "85        14-35-14\n",
       "78        10-26-26\n",
       "79             DAP\n",
       "62           28-28\n",
       "51           20-20\n",
       "63        10-26-26\n",
       "18            Urea\n",
       "26        14-35-14\n",
       "91        10-26-26\n",
       "22             DAP\n",
       "67        14-35-14\n",
       "2         14-35-14\n",
       "28             DAP\n",
       "1              DAP\n",
       "70           28-28\n",
       "20           20-20\n",
       "44             DAP\n",
       "49        14-35-14\n",
       "60            Urea\n",
       "35            Urea"
      ]
     },
     "execution_count": 20,
     "metadata": {},
     "output_type": "execute_result"
    }
   ],
   "source": [
    "y_test"
   ]
  },
  {
   "cell_type": "code",
   "execution_count": 21,
   "id": "f7f1856b",
   "metadata": {
    "execution": {
     "iopub.execute_input": "2022-07-25T06:49:38.535982Z",
     "iopub.status.busy": "2022-07-25T06:49:38.535193Z",
     "iopub.status.idle": "2022-07-25T06:49:38.540367Z",
     "shell.execute_reply": "2022-07-25T06:49:38.539568Z"
    },
    "papermill": {
     "duration": 0.018567,
     "end_time": "2022-07-25T06:49:38.542657",
     "exception": false,
     "start_time": "2022-07-25T06:49:38.524090",
     "status": "completed"
    },
    "tags": []
   },
   "outputs": [],
   "source": [
    "from sklearn.metrics import accuracy_score"
   ]
  },
  {
   "cell_type": "code",
   "execution_count": 22,
   "id": "5de999e0",
   "metadata": {
    "execution": {
     "iopub.execute_input": "2022-07-25T06:49:38.562977Z",
     "iopub.status.busy": "2022-07-25T06:49:38.562198Z",
     "iopub.status.idle": "2022-07-25T06:49:38.569666Z",
     "shell.execute_reply": "2022-07-25T06:49:38.568839Z"
    },
    "papermill": {
     "duration": 0.020246,
     "end_time": "2022-07-25T06:49:38.571869",
     "exception": false,
     "start_time": "2022-07-25T06:49:38.551623",
     "status": "completed"
    },
    "tags": []
   },
   "outputs": [
    {
     "data": {
      "text/plain": [
       "0.9"
      ]
     },
     "execution_count": 22,
     "metadata": {},
     "output_type": "execute_result"
    }
   ],
   "source": [
    "accuracy_score(y_test,prediction)"
   ]
  },
  {
   "cell_type": "code",
   "execution_count": 23,
   "id": "90bcf897",
   "metadata": {},
   "outputs": [],
   "source": [
    "import pickle\n",
    "filename = 'fertilizer.pkl'\n",
    "fertilizer= open(filename, 'wb')\n",
    "pickle.dump(model,fertilizer)"
   ]
  },
  {
   "cell_type": "code",
   "execution_count": 24,
   "id": "f9cdaab6",
   "metadata": {},
   "outputs": [
    {
     "ename": "EOFError",
     "evalue": "Ran out of input",
     "output_type": "error",
     "traceback": [
      "\u001b[1;31m---------------------------------------------------------------------------\u001b[0m",
      "\u001b[1;31mEOFError\u001b[0m                                  Traceback (most recent call last)",
      "\u001b[1;32m~\\AppData\\Local\\Temp/ipykernel_10988/1320013098.py\u001b[0m in \u001b[0;36m<module>\u001b[1;34m\u001b[0m\n\u001b[1;32m----> 1\u001b[1;33m \u001b[0mload_model\u001b[0m\u001b[1;33m=\u001b[0m\u001b[0mpickle\u001b[0m\u001b[1;33m.\u001b[0m\u001b[0mload\u001b[0m\u001b[1;33m(\u001b[0m\u001b[0mopen\u001b[0m\u001b[1;33m(\u001b[0m\u001b[0mfilename\u001b[0m\u001b[1;33m,\u001b[0m\u001b[1;34m'rb'\u001b[0m\u001b[1;33m)\u001b[0m\u001b[1;33m)\u001b[0m\u001b[1;33m\u001b[0m\u001b[1;33m\u001b[0m\u001b[0m\n\u001b[0m",
      "\u001b[1;31mEOFError\u001b[0m: Ran out of input"
     ]
    }
   ],
   "source": [
    "load_model=pickle.load(open(filename,'rb'))"
   ]
  },
  {
   "cell_type": "code",
   "execution_count": null,
   "id": "4eefbaa8",
   "metadata": {},
   "outputs": [],
   "source": [
    "y_pred = load_model.predict(x_test)"
   ]
  },
  {
   "cell_type": "code",
   "execution_count": null,
   "id": "53f94d26",
   "metadata": {},
   "outputs": [],
   "source": [
    "y_pred"
   ]
  },
  {
   "cell_type": "code",
   "execution_count": null,
   "id": "deb13f4a",
   "metadata": {},
   "outputs": [],
   "source": []
  }
 ],
 "metadata": {
  "kernelspec": {
   "display_name": "Python 3 (ipykernel)",
   "language": "python",
   "name": "python3"
  },
  "language_info": {
   "codemirror_mode": {
    "name": "ipython",
    "version": 3
   },
   "file_extension": ".py",
   "mimetype": "text/x-python",
   "name": "python",
   "nbconvert_exporter": "python",
   "pygments_lexer": "ipython3",
   "version": "3.9.7"
  },
  "papermill": {
   "default_parameters": {},
   "duration": 13.193588,
   "end_time": "2022-07-25T06:49:39.438041",
   "environment_variables": {},
   "exception": null,
   "input_path": "__notebook__.ipynb",
   "output_path": "__notebook__.ipynb",
   "parameters": {},
   "start_time": "2022-07-25T06:49:26.244453",
   "version": "2.3.4"
  }
 },
 "nbformat": 4,
 "nbformat_minor": 5
}
