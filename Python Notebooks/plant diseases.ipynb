{
 "cells": [
  {
   "cell_type": "markdown",
   "metadata": {},
   "source": [
    "# call libaries"
   ]
  },
  {
   "cell_type": "code",
   "execution_count": 9,
   "metadata": {
    "execution": {
     "iopub.execute_input": "2024-11-03T15:28:22.665578Z",
     "iopub.status.busy": "2024-11-03T15:28:22.665237Z",
     "iopub.status.idle": "2024-11-03T15:28:36.439789Z",
     "shell.execute_reply": "2024-11-03T15:28:36.438791Z",
     "shell.execute_reply.started": "2024-11-03T15:28:22.665546Z"
    },
    "trusted": true
   },
   "outputs": [],
   "source": [
    "import numpy as np\n",
    "import pandas as pd\n",
    "\n",
    "import tensorflow as tf\n",
    "from tensorflow.keras.models import Sequential, load_model\n",
    "from tensorflow.keras.layers import Dense, Dropout, Flatten, Conv2D, MaxPooling2D\n",
    "from tensorflow.keras.applications import VGG16, ResNet50  # Example pre-trained models\n",
    "from tensorflow.keras.preprocessing.image import ImageDataGenerator\n",
    "from tensorflow.keras.optimizers import Adam\n",
    "from tensorflow.keras.layers import GlobalAveragePooling2D\n",
    "from tensorflow.keras.models import Model\n",
    "from tensorflow.keras.callbacks import EarlyStopping, ReduceLROnPlateau, ModelCheckpoint\n",
    "\n",
    "from sklearn.metrics import classification_report, confusion_matrix\n",
    "import itertools\n",
    "\n",
    "import os\n",
    "from glob import glob\n",
    "import random\n"
   ]
  },
  {
   "cell_type": "markdown",
   "metadata": {},
   "source": [
    "# read data"
   ]
  },
  {
   "cell_type": "code",
   "execution_count": 14,
   "metadata": {
    "execution": {
     "iopub.execute_input": "2024-11-03T15:30:51.160980Z",
     "iopub.status.busy": "2024-11-03T15:30:51.160247Z",
     "iopub.status.idle": "2024-11-03T15:30:51.165391Z",
     "shell.execute_reply": "2024-11-03T15:30:51.164354Z",
     "shell.execute_reply.started": "2024-11-03T15:30:51.160937Z"
    },
    "trusted": true
   },
   "outputs": [],
   "source": [
    "train_path = '/kaggle/input/new-plant-diseases-dataset/New Plant Diseases Dataset(Augmented)/New Plant Diseases Dataset(Augmented)/train'\n",
    "valid_path = '/kaggle/input/new-plant-diseases-dataset/New Plant Diseases Dataset(Augmented)/New Plant Diseases Dataset(Augmented)/train'\n",
    "test_path = '/kaggle/input/new-plant-diseases-dataset/New Plant Diseases Dataset(Augmented)/New Plant Diseases Dataset(Augmented)/valid'"
   ]
  },
  {
   "cell_type": "code",
   "execution_count": 15,
   "metadata": {
    "execution": {
     "iopub.execute_input": "2024-11-03T15:30:51.940090Z",
     "iopub.status.busy": "2024-11-03T15:30:51.939439Z",
     "iopub.status.idle": "2024-11-03T15:30:51.944531Z",
     "shell.execute_reply": "2024-11-03T15:30:51.943592Z",
     "shell.execute_reply.started": "2024-11-03T15:30:51.940047Z"
    },
    "trusted": true
   },
   "outputs": [],
   "source": [
    "train_gen = ImageDataGenerator(rescale=1/255, validation_split=0.2)\n",
    "val_gen = ImageDataGenerator(rescale=1/255)\n"
   ]
  },
  {
   "cell_type": "code",
   "execution_count": 16,
   "metadata": {
    "execution": {
     "iopub.execute_input": "2024-11-03T15:30:52.620265Z",
     "iopub.status.busy": "2024-11-03T15:30:52.619604Z",
     "iopub.status.idle": "2024-11-03T15:31:48.015207Z",
     "shell.execute_reply": "2024-11-03T15:31:48.014431Z",
     "shell.execute_reply.started": "2024-11-03T15:30:52.620219Z"
    },
    "trusted": true
   },
   "outputs": [
    {
     "name": "stdout",
     "output_type": "stream",
     "text": [
      "Found 56251 images belonging to 38 classes.\n",
      "Found 14044 images belonging to 38 classes.\n",
      "Found 17572 images belonging to 38 classes.\n"
     ]
    }
   ],
   "source": [
    "train=train_gen.flow_from_directory(train_path,\n",
    "                                    target_size=(224,224),color_mode='rgb',class_mode='categorical',\n",
    "                                    batch_size=256,seed=0,subset='training',shuffle=True)\n",
    "validation=train_gen.flow_from_directory(train_path,\n",
    "                                    target_size=(224,224),color_mode='rgb',class_mode='categorical',\n",
    "                                    batch_size=256,seed=0,subset='validation',shuffle=False)"
   ]
  },
  {
   "cell_type": "markdown",
   "metadata": {},
   "source": [
    "# Build InceptionV3 model"
   ]
  },
  {
   "cell_type": "code",
   "execution_count": 63,
   "metadata": {
    "execution": {
     "iopub.execute_input": "2024-11-03T12:38:51.247991Z",
     "iopub.status.busy": "2024-11-03T12:38:51.247547Z",
     "iopub.status.idle": "2024-11-03T12:38:53.045694Z",
     "shell.execute_reply": "2024-11-03T12:38:53.044805Z",
     "shell.execute_reply.started": "2024-11-03T12:38:51.247936Z"
    },
    "trusted": true
   },
   "outputs": [],
   "source": [
    "from tensorflow.keras.applications import InceptionV3\n",
    "img_height, img_width = 224, 224  \n",
    "batch_size = 32\n",
    "\n",
    "base_model = InceptionV3(weights='imagenet', include_top=False, input_shape=(img_height, img_width, 3))\n",
    "\n",
    "for layer in base_model.layers:\n",
    "    layer.trainable = False"
   ]
  },
  {
   "cell_type": "code",
   "execution_count": 64,
   "metadata": {
    "execution": {
     "iopub.execute_input": "2024-11-03T12:38:56.090933Z",
     "iopub.status.busy": "2024-11-03T12:38:56.090557Z",
     "iopub.status.idle": "2024-11-03T12:38:56.156209Z",
     "shell.execute_reply": "2024-11-03T12:38:56.155457Z",
     "shell.execute_reply.started": "2024-11-03T12:38:56.090898Z"
    },
    "trusted": true
   },
   "outputs": [],
   "source": [
    "x = base_model.output\n",
    "x = GlobalAveragePooling2D()(x)\n",
    "x = Dense(512, activation='relu')(x)\n",
    "predictions = Dense(38, activation='softmax')(x)\n",
    "model = Model(inputs=base_model.input, outputs=predictions)\n"
   ]
  },
  {
   "cell_type": "code",
   "execution_count": 65,
   "metadata": {
    "execution": {
     "iopub.execute_input": "2024-11-03T12:38:59.621278Z",
     "iopub.status.busy": "2024-11-03T12:38:59.620577Z",
     "iopub.status.idle": "2024-11-03T12:38:59.632334Z",
     "shell.execute_reply": "2024-11-03T12:38:59.631136Z",
     "shell.execute_reply.started": "2024-11-03T12:38:59.621240Z"
    },
    "trusted": true
   },
   "outputs": [],
   "source": [
    "model.compile(\n",
    "    loss=\"categorical_crossentropy\", \n",
    "    optimizer=tf.keras.optimizers.Adam(learning_rate=0.001),\n",
    "    metrics=[\"accuracy\", \"precision\", \"recall\"]\n",
    ")"
   ]
  },
  {
   "cell_type": "code",
   "execution_count": 23,
   "metadata": {
    "execution": {
     "iopub.execute_input": "2024-11-03T15:32:44.870476Z",
     "iopub.status.busy": "2024-11-03T15:32:44.870070Z",
     "iopub.status.idle": "2024-11-03T15:32:44.876089Z",
     "shell.execute_reply": "2024-11-03T15:32:44.875074Z",
     "shell.execute_reply.started": "2024-11-03T15:32:44.870434Z"
    },
    "trusted": true
   },
   "outputs": [],
   "source": [
    "early_stopping=EarlyStopping(monitor='val_loss',patience=8,verbose=1, restore_best_weights=True)\n",
    "checkpoints=ModelCheckpoint('resnet50.keras', monitor='val_loss', save_best_only=True,verbose=1)\n",
    "reduceonplateau=ReduceLROnPlateau(monitor='val_loss', factor=0.1, patience=5, min_lr=0.001)\n",
    "callback=[early_stopping,reduceonplateau,checkpoints]"
   ]
  },
  {
   "cell_type": "code",
   "execution_count": 67,
   "metadata": {
    "execution": {
     "iopub.execute_input": "2024-11-03T12:39:11.970745Z",
     "iopub.status.busy": "2024-11-03T12:39:11.970104Z",
     "iopub.status.idle": "2024-11-03T13:03:08.373571Z",
     "shell.execute_reply": "2024-11-03T13:03:08.372709Z",
     "shell.execute_reply.started": "2024-11-03T12:39:11.970702Z"
    },
    "trusted": true
   },
   "outputs": [
    {
     "name": "stdout",
     "output_type": "stream",
     "text": [
      "Epoch 1/15\n"
     ]
    },
    {
     "name": "stderr",
     "output_type": "stream",
     "text": [
      "/opt/conda/lib/python3.10/site-packages/keras/src/trainers/data_adapters/py_dataset_adapter.py:121: UserWarning:\n",
      "\n",
      "Your `PyDataset` class should call `super().__init__(**kwargs)` in its constructor. `**kwargs` can include `workers`, `use_multiprocessing`, `max_queue_size`. Do not pass these arguments to `fit()`, as they will be ignored.\n",
      "\n",
      "WARNING: All log messages before absl::InitializeLog() is called are written to STDERR\n",
      "I0000 00:00:1730637571.814300     702 service.cc:145] XLA service 0x7f44940570f0 initialized for platform CUDA (this does not guarantee that XLA will be used). Devices:\n",
      "I0000 00:00:1730637571.814357     702 service.cc:153]   StreamExecutor device (0): Tesla T4, Compute Capability 7.5\n",
      "I0000 00:00:1730637571.814361     702 service.cc:153]   StreamExecutor device (1): Tesla T4, Compute Capability 7.5\n",
      "I0000 00:00:1730637606.451055     702 device_compiler.h:188] Compiled cluster using XLA!  This line is logged at most once for the lifetime of the process.\n"
     ]
    },
    {
     "name": "stdout",
     "output_type": "stream",
     "text": [
      "\u001b[1m69/69\u001b[0m \u001b[32m━━━━━━━━━━━━━━━━━━━━\u001b[0m\u001b[37m\u001b[0m \u001b[1m0s\u001b[0m 2s/step - accuracy: 0.4777 - loss: 2.0238 - precision: 0.8562 - recall: 0.2830\n",
      "Epoch 1: val_loss improved from inf to 0.60855, saving model to resnet50.keras\n",
      "\u001b[1m69/69\u001b[0m \u001b[32m━━━━━━━━━━━━━━━━━━━━\u001b[0m\u001b[37m\u001b[0m \u001b[1m285s\u001b[0m 3s/step - accuracy: 0.4802 - loss: 2.0129 - precision: 0.8566 - recall: 0.2860 - val_accuracy: 0.8145 - val_loss: 0.6085 - val_precision: 0.9025 - val_recall: 0.7262 - learning_rate: 0.0010\n",
      "Epoch 2/15\n",
      "\u001b[1m69/69\u001b[0m \u001b[32m━━━━━━━━━━━━━━━━━━━━\u001b[0m\u001b[37m\u001b[0m \u001b[1m0s\u001b[0m 612ms/step - accuracy: 0.8515 - loss: 0.5005 - precision: 0.9177 - recall: 0.7820\n",
      "Epoch 2: val_loss improved from 0.60855 to 0.49318, saving model to resnet50.keras\n",
      "\u001b[1m69/69\u001b[0m \u001b[32m━━━━━━━━━━━━━━━━━━━━\u001b[0m\u001b[37m\u001b[0m \u001b[1m84s\u001b[0m 1s/step - accuracy: 0.8514 - loss: 0.5003 - precision: 0.9176 - recall: 0.7821 - val_accuracy: 0.8466 - val_loss: 0.4932 - val_precision: 0.9033 - val_recall: 0.7919 - learning_rate: 0.0010\n",
      "Epoch 3/15\n",
      "\u001b[1m69/69\u001b[0m \u001b[32m━━━━━━━━━━━━━━━━━━━━\u001b[0m\u001b[37m\u001b[0m \u001b[1m0s\u001b[0m 619ms/step - accuracy: 0.8906 - loss: 0.3658 - precision: 0.9363 - recall: 0.8435\n",
      "Epoch 3: val_loss improved from 0.49318 to 0.45884, saving model to resnet50.keras\n",
      "\u001b[1m69/69\u001b[0m \u001b[32m━━━━━━━━━━━━━━━━━━━━\u001b[0m\u001b[37m\u001b[0m \u001b[1m82s\u001b[0m 1s/step - accuracy: 0.8906 - loss: 0.3657 - precision: 0.9363 - recall: 0.8435 - val_accuracy: 0.8534 - val_loss: 0.4588 - val_precision: 0.8974 - val_recall: 0.8137 - learning_rate: 0.0010\n",
      "Epoch 4/15\n",
      "\u001b[1m69/69\u001b[0m \u001b[32m━━━━━━━━━━━━━━━━━━━━\u001b[0m\u001b[37m\u001b[0m \u001b[1m0s\u001b[0m 616ms/step - accuracy: 0.9140 - loss: 0.2819 - precision: 0.9492 - recall: 0.8795\n",
      "Epoch 4: val_loss improved from 0.45884 to 0.37950, saving model to resnet50.keras\n",
      "\u001b[1m69/69\u001b[0m \u001b[32m━━━━━━━━━━━━━━━━━━━━\u001b[0m\u001b[37m\u001b[0m \u001b[1m83s\u001b[0m 1s/step - accuracy: 0.9140 - loss: 0.2818 - precision: 0.9492 - recall: 0.8796 - val_accuracy: 0.8797 - val_loss: 0.3795 - val_precision: 0.9186 - val_recall: 0.8463 - learning_rate: 0.0010\n",
      "Epoch 5/15\n",
      "\u001b[1m69/69\u001b[0m \u001b[32m━━━━━━━━━━━━━━━━━━━━\u001b[0m\u001b[37m\u001b[0m \u001b[1m0s\u001b[0m 597ms/step - accuracy: 0.9394 - loss: 0.2122 - precision: 0.9632 - recall: 0.9117\n",
      "Epoch 5: val_loss improved from 0.37950 to 0.36717, saving model to resnet50.keras\n",
      "\u001b[1m69/69\u001b[0m \u001b[32m━━━━━━━━━━━━━━━━━━━━\u001b[0m\u001b[37m\u001b[0m \u001b[1m81s\u001b[0m 1s/step - accuracy: 0.9393 - loss: 0.2124 - precision: 0.9632 - recall: 0.9116 - val_accuracy: 0.8812 - val_loss: 0.3672 - val_precision: 0.9148 - val_recall: 0.8535 - learning_rate: 0.0010\n",
      "Epoch 6/15\n",
      "\u001b[1m69/69\u001b[0m \u001b[32m━━━━━━━━━━━━━━━━━━━━\u001b[0m\u001b[37m\u001b[0m \u001b[1m0s\u001b[0m 610ms/step - accuracy: 0.9517 - loss: 0.1786 - precision: 0.9696 - recall: 0.9283\n",
      "Epoch 6: val_loss did not improve from 0.36717\n",
      "\u001b[1m69/69\u001b[0m \u001b[32m━━━━━━━━━━━━━━━━━━━━\u001b[0m\u001b[37m\u001b[0m \u001b[1m81s\u001b[0m 1s/step - accuracy: 0.9516 - loss: 0.1787 - precision: 0.9696 - recall: 0.9282 - val_accuracy: 0.8782 - val_loss: 0.3770 - val_precision: 0.9086 - val_recall: 0.8556 - learning_rate: 0.0010\n",
      "Epoch 7/15\n",
      "\u001b[1m69/69\u001b[0m \u001b[32m━━━━━━━━━━━━━━━━━━━━\u001b[0m\u001b[37m\u001b[0m \u001b[1m0s\u001b[0m 596ms/step - accuracy: 0.9580 - loss: 0.1543 - precision: 0.9723 - recall: 0.9390\n",
      "Epoch 7: val_loss improved from 0.36717 to 0.35757, saving model to resnet50.keras\n",
      "\u001b[1m69/69\u001b[0m \u001b[32m━━━━━━━━━━━━━━━━━━━━\u001b[0m\u001b[37m\u001b[0m \u001b[1m81s\u001b[0m 1s/step - accuracy: 0.9580 - loss: 0.1545 - precision: 0.9723 - recall: 0.9389 - val_accuracy: 0.8879 - val_loss: 0.3576 - val_precision: 0.9154 - val_recall: 0.8649 - learning_rate: 0.0010\n",
      "Epoch 8/15\n",
      "\u001b[1m69/69\u001b[0m \u001b[32m━━━━━━━━━━━━━━━━━━━━\u001b[0m\u001b[37m\u001b[0m \u001b[1m0s\u001b[0m 603ms/step - accuracy: 0.9640 - loss: 0.1377 - precision: 0.9761 - recall: 0.9473\n",
      "Epoch 8: val_loss improved from 0.35757 to 0.35036, saving model to resnet50.keras\n",
      "\u001b[1m69/69\u001b[0m \u001b[32m━━━━━━━━━━━━━━━━━━━━\u001b[0m\u001b[37m\u001b[0m \u001b[1m83s\u001b[0m 1s/step - accuracy: 0.9640 - loss: 0.1376 - precision: 0.9761 - recall: 0.9474 - val_accuracy: 0.8873 - val_loss: 0.3504 - val_precision: 0.9089 - val_recall: 0.8668 - learning_rate: 0.0010\n",
      "Epoch 9/15\n",
      "\u001b[1m69/69\u001b[0m \u001b[32m━━━━━━━━━━━━━━━━━━━━\u001b[0m\u001b[37m\u001b[0m \u001b[1m0s\u001b[0m 622ms/step - accuracy: 0.9740 - loss: 0.1072 - precision: 0.9828 - recall: 0.9617\n",
      "Epoch 9: val_loss did not improve from 0.35036\n",
      "\u001b[1m69/69\u001b[0m \u001b[32m━━━━━━━━━━━━━━━━━━━━\u001b[0m\u001b[37m\u001b[0m \u001b[1m83s\u001b[0m 1s/step - accuracy: 0.9739 - loss: 0.1073 - precision: 0.9828 - recall: 0.9617 - val_accuracy: 0.8875 - val_loss: 0.3539 - val_precision: 0.9106 - val_recall: 0.8705 - learning_rate: 0.0010\n",
      "Epoch 10/15\n",
      "\u001b[1m69/69\u001b[0m \u001b[32m━━━━━━━━━━━━━━━━━━━━\u001b[0m\u001b[37m\u001b[0m \u001b[1m0s\u001b[0m 629ms/step - accuracy: 0.9715 - loss: 0.1050 - precision: 0.9807 - recall: 0.9606\n",
      "Epoch 10: val_loss improved from 0.35036 to 0.33060, saving model to resnet50.keras\n",
      "\u001b[1m69/69\u001b[0m \u001b[32m━━━━━━━━━━━━━━━━━━━━\u001b[0m\u001b[37m\u001b[0m \u001b[1m85s\u001b[0m 1s/step - accuracy: 0.9715 - loss: 0.1050 - precision: 0.9807 - recall: 0.9606 - val_accuracy: 0.8936 - val_loss: 0.3306 - val_precision: 0.9141 - val_recall: 0.8775 - learning_rate: 0.0010\n",
      "Epoch 11/15\n",
      "\u001b[1m69/69\u001b[0m \u001b[32m━━━━━━━━━━━━━━━━━━━━\u001b[0m\u001b[37m\u001b[0m \u001b[1m0s\u001b[0m 606ms/step - accuracy: 0.9843 - loss: 0.0741 - precision: 0.9904 - recall: 0.9765\n",
      "Epoch 11: val_loss did not improve from 0.33060\n",
      "\u001b[1m69/69\u001b[0m \u001b[32m━━━━━━━━━━━━━━━━━━━━\u001b[0m\u001b[37m\u001b[0m \u001b[1m81s\u001b[0m 1s/step - accuracy: 0.9843 - loss: 0.0742 - precision: 0.9904 - recall: 0.9764 - val_accuracy: 0.8913 - val_loss: 0.3413 - val_precision: 0.9101 - val_recall: 0.8761 - learning_rate: 0.0010\n",
      "Epoch 12/15\n",
      "\u001b[1m69/69\u001b[0m \u001b[32m━━━━━━━━━━━━━━━━━━━━\u001b[0m\u001b[37m\u001b[0m \u001b[1m0s\u001b[0m 605ms/step - accuracy: 0.9824 - loss: 0.0758 - precision: 0.9887 - recall: 0.9751\n",
      "Epoch 12: val_loss improved from 0.33060 to 0.31829, saving model to resnet50.keras\n",
      "\u001b[1m69/69\u001b[0m \u001b[32m━━━━━━━━━━━━━━━━━━━━\u001b[0m\u001b[37m\u001b[0m \u001b[1m81s\u001b[0m 1s/step - accuracy: 0.9824 - loss: 0.0757 - precision: 0.9887 - recall: 0.9751 - val_accuracy: 0.9005 - val_loss: 0.3183 - val_precision: 0.9178 - val_recall: 0.8862 - learning_rate: 0.0010\n",
      "Epoch 13/15\n",
      "\u001b[1m69/69\u001b[0m \u001b[32m━━━━━━━━━━━━━━━━━━━━\u001b[0m\u001b[37m\u001b[0m \u001b[1m0s\u001b[0m 616ms/step - accuracy: 0.9840 - loss: 0.0700 - precision: 0.9895 - recall: 0.9773\n",
      "Epoch 13: val_loss did not improve from 0.31829\n",
      "\u001b[1m69/69\u001b[0m \u001b[32m━━━━━━━━━━━━━━━━━━━━\u001b[0m\u001b[37m\u001b[0m \u001b[1m81s\u001b[0m 1s/step - accuracy: 0.9839 - loss: 0.0700 - precision: 0.9895 - recall: 0.9773 - val_accuracy: 0.8918 - val_loss: 0.3490 - val_precision: 0.9106 - val_recall: 0.8790 - learning_rate: 0.0010\n",
      "Epoch 14/15\n",
      "\u001b[1m69/69\u001b[0m \u001b[32m━━━━━━━━━━━━━━━━━━━━\u001b[0m\u001b[37m\u001b[0m \u001b[1m0s\u001b[0m 609ms/step - accuracy: 0.9891 - loss: 0.0555 - precision: 0.9920 - recall: 0.9844\n",
      "Epoch 14: val_loss did not improve from 0.31829\n",
      "\u001b[1m69/69\u001b[0m \u001b[32m━━━━━━━━━━━━━━━━━━━━\u001b[0m\u001b[37m\u001b[0m \u001b[1m81s\u001b[0m 1s/step - accuracy: 0.9891 - loss: 0.0555 - precision: 0.9920 - recall: 0.9845 - val_accuracy: 0.8938 - val_loss: 0.3404 - val_precision: 0.9105 - val_recall: 0.8830 - learning_rate: 0.0010\n",
      "Epoch 15/15\n",
      "\u001b[1m69/69\u001b[0m \u001b[32m━━━━━━━━━━━━━━━━━━━━\u001b[0m\u001b[37m\u001b[0m \u001b[1m0s\u001b[0m 601ms/step - accuracy: 0.9922 - loss: 0.0466 - precision: 0.9949 - recall: 0.9881\n",
      "Epoch 15: val_loss did not improve from 0.31829\n",
      "\u001b[1m69/69\u001b[0m \u001b[32m━━━━━━━━━━━━━━━━━━━━\u001b[0m\u001b[37m\u001b[0m \u001b[1m81s\u001b[0m 1s/step - accuracy: 0.9922 - loss: 0.0466 - precision: 0.9949 - recall: 0.9881 - val_accuracy: 0.8985 - val_loss: 0.3285 - val_precision: 0.9148 - val_recall: 0.8864 - learning_rate: 0.0010\n",
      "Restoring model weights from the end of the best epoch: 12.\n"
     ]
    }
   ],
   "source": [
    "history =model.fit(train,\n",
    "                   epochs=15,\n",
    "                   validation_data=validation,\n",
    "                   callbacks=callback,\n",
    "                   batch_size=128)\n"
   ]
  },
  {
   "cell_type": "markdown",
   "metadata": {},
   "source": [
    "# Testing model"
   ]
  },
  {
   "cell_type": "code",
   "execution_count": 30,
   "metadata": {
    "execution": {
     "iopub.execute_input": "2024-11-03T15:57:24.583351Z",
     "iopub.status.busy": "2024-11-03T15:57:24.582581Z",
     "iopub.status.idle": "2024-11-03T15:57:25.461198Z",
     "shell.execute_reply": "2024-11-03T15:57:25.460433Z",
     "shell.execute_reply.started": "2024-11-03T15:57:24.583309Z"
    },
    "trusted": true
   },
   "outputs": [
    {
     "name": "stdout",
     "output_type": "stream",
     "text": [
      "Found 17572 images belonging to 38 classes.\n"
     ]
    }
   ],
   "source": [
    "test_gen = ImageDataGenerator(rescale=1./255)\n",
    "test =test_gen.flow_from_directory(test_path,\n",
    "                                    target_size=(224,224),color_mode='rgb',class_mode='categorical',\n",
    "                                    batch_size=256)"
   ]
  },
  {
   "cell_type": "code",
   "execution_count": 76,
   "metadata": {
    "execution": {
     "iopub.execute_input": "2024-11-03T13:13:42.773849Z",
     "iopub.status.busy": "2024-11-03T13:13:42.773443Z",
     "iopub.status.idle": "2024-11-03T13:21:01.451683Z",
     "shell.execute_reply": "2024-11-03T13:21:01.450743Z",
     "shell.execute_reply.started": "2024-11-03T13:13:42.773808Z"
    },
    "trusted": true
   },
   "outputs": [
    {
     "name": "stdout",
     "output_type": "stream",
     "text": [
      "\u001b[1m550/550\u001b[0m \u001b[32m━━━━━━━━━━━━━━━━━━━━\u001b[0m\u001b[37m\u001b[0m \u001b[1m438s\u001b[0m 760ms/step - accuracy: 0.9276 - loss: 0.2259 - precision: 0.9398 - recall: 0.9177\n"
     ]
    }
   ],
   "source": [
    "results = model.evaluate(test) "
   ]
  },
  {
   "cell_type": "markdown",
   "metadata": {},
   "source": [
    "# Vgg16 model"
   ]
  },
  {
   "cell_type": "code",
   "execution_count": 18,
   "metadata": {
    "execution": {
     "iopub.execute_input": "2024-11-03T15:31:48.023334Z",
     "iopub.status.busy": "2024-11-03T15:31:48.023054Z",
     "iopub.status.idle": "2024-11-03T15:31:48.327935Z",
     "shell.execute_reply": "2024-11-03T15:31:48.327144Z",
     "shell.execute_reply.started": "2024-11-03T15:31:48.023302Z"
    },
    "trusted": true
   },
   "outputs": [],
   "source": [
    "# Load VGG16 model\n",
    "img_height, img_width = 224, 224  \n",
    "base_model = VGG16(weights='imagenet', include_top=False, input_shape=(img_height, img_width, 3))\n",
    "for layer in base_model.layers:\n",
    "    layer.trainable = False\n",
    "    \n",
    "x = base_model.output\n",
    "x = GlobalAveragePooling2D()(x)  # Pooling layer to reduce dimensions\n",
    "x = Dense(1024, activation='relu')(x)\n",
    "x = Dense(256, activation='relu')(x)\n",
    "predictions = Dense(38, activation='softmax')(x)  # Final output layer\n",
    "\n",
    "model = Model(inputs=base_model.input, outputs=predictions)\n"
   ]
  },
  {
   "cell_type": "code",
   "execution_count": 19,
   "metadata": {
    "execution": {
     "iopub.execute_input": "2024-11-03T15:31:48.330052Z",
     "iopub.status.busy": "2024-11-03T15:31:48.329727Z",
     "iopub.status.idle": "2024-11-03T15:31:48.343637Z",
     "shell.execute_reply": "2024-11-03T15:31:48.342636Z",
     "shell.execute_reply.started": "2024-11-03T15:31:48.330019Z"
    },
    "trusted": true
   },
   "outputs": [],
   "source": [
    "model.compile(\n",
    "    loss=\"categorical_crossentropy\",          \n",
    "    optimizer=tf.keras.optimizers.Adam(learning_rate=0.001),\n",
    "    metrics=[\"accuracy\", \"precision\", \"recall\"]\n",
    ")"
   ]
  },
  {
   "cell_type": "code",
   "execution_count": 24,
   "metadata": {
    "collapsed": true,
    "execution": {
     "iopub.execute_input": "2024-11-03T15:33:01.531020Z",
     "iopub.status.busy": "2024-11-03T15:33:01.530280Z",
     "iopub.status.idle": "2024-11-03T15:54:35.467575Z",
     "shell.execute_reply": "2024-11-03T15:54:35.466609Z",
     "shell.execute_reply.started": "2024-11-03T15:33:01.530979Z"
    },
    "jupyter": {
     "outputs_hidden": true
    },
    "trusted": true
   },
   "outputs": [
    {
     "name": "stdout",
     "output_type": "stream",
     "text": [
      "Epoch 1/8\n"
     ]
    },
    {
     "name": "stderr",
     "output_type": "stream",
     "text": [
      "/opt/conda/lib/python3.10/site-packages/keras/src/trainers/data_adapters/py_dataset_adapter.py:121: UserWarning: Your `PyDataset` class should call `super().__init__(**kwargs)` in its constructor. `**kwargs` can include `workers`, `use_multiprocessing`, `max_queue_size`. Do not pass these arguments to `fit()`, as they will be ignored.\n",
      "  self._warn_if_super_not_called()\n",
      "WARNING: All log messages before absl::InitializeLog() is called are written to STDERR\n",
      "I0000 00:00:1730647997.221600     107 service.cc:145] XLA service 0x7b828c001880 initialized for platform CUDA (this does not guarantee that XLA will be used). Devices:\n",
      "I0000 00:00:1730647997.221656     107 service.cc:153]   StreamExecutor device (0): Tesla T4, Compute Capability 7.5\n",
      "I0000 00:00:1730647997.221660     107 service.cc:153]   StreamExecutor device (1): Tesla T4, Compute Capability 7.5\n",
      "2024-11-03 15:33:31.066839: E external/local_xla/xla/service/slow_operation_alarm.cc:65] Trying algorithm eng20{k2=0,k4=1,k5=1,k6=0,k7=0,k19=0} for conv (f32[256,64,224,224]{3,2,1,0}, u8[0]{0}) custom-call(f32[256,64,224,224]{3,2,1,0}, f32[64,64,3,3]{3,2,1,0}, f32[64]{0}), window={size=3x3 pad=1_1x1_1}, dim_labels=bf01_oi01->bf01, custom_call_target=\"__cudnn$convBiasActivationForward\", backend_config={\"operation_queue_id\":\"0\",\"wait_on_operation_queues\":[],\"cudnn_conv_backend_config\":{\"conv_result_scale\":1,\"activation_mode\":\"kRelu\",\"side_input_scale\":0,\"leakyrelu_alpha\":0}} is taking a while...\n",
      "2024-11-03 15:33:31.104968: E external/local_xla/xla/service/slow_operation_alarm.cc:133] The operation took 1.038238561s\n",
      "Trying algorithm eng20{k2=0,k4=1,k5=1,k6=0,k7=0,k19=0} for conv (f32[256,64,224,224]{3,2,1,0}, u8[0]{0}) custom-call(f32[256,64,224,224]{3,2,1,0}, f32[64,64,3,3]{3,2,1,0}, f32[64]{0}), window={size=3x3 pad=1_1x1_1}, dim_labels=bf01_oi01->bf01, custom_call_target=\"__cudnn$convBiasActivationForward\", backend_config={\"operation_queue_id\":\"0\",\"wait_on_operation_queues\":[],\"cudnn_conv_backend_config\":{\"conv_result_scale\":1,\"activation_mode\":\"kRelu\",\"side_input_scale\":0,\"leakyrelu_alpha\":0}} is taking a while...\n",
      "2024-11-03 15:33:32.105173: E external/local_xla/xla/service/slow_operation_alarm.cc:65] Trying algorithm eng11{k2=3,k3=0} for conv (f32[256,64,224,224]{3,2,1,0}, u8[0]{0}) custom-call(f32[256,64,224,224]{3,2,1,0}, f32[64,64,3,3]{3,2,1,0}, f32[64]{0}), window={size=3x3 pad=1_1x1_1}, dim_labels=bf01_oi01->bf01, custom_call_target=\"__cudnn$convBiasActivationForward\", backend_config={\"operation_queue_id\":\"0\",\"wait_on_operation_queues\":[],\"cudnn_conv_backend_config\":{\"conv_result_scale\":1,\"activation_mode\":\"kRelu\",\"side_input_scale\":0,\"leakyrelu_alpha\":0}} is taking a while...\n",
      "2024-11-03 15:33:32.553962: E external/local_xla/xla/service/slow_operation_alarm.cc:133] The operation took 1.448900269s\n",
      "Trying algorithm eng11{k2=3,k3=0} for conv (f32[256,64,224,224]{3,2,1,0}, u8[0]{0}) custom-call(f32[256,64,224,224]{3,2,1,0}, f32[64,64,3,3]{3,2,1,0}, f32[64]{0}), window={size=3x3 pad=1_1x1_1}, dim_labels=bf01_oi01->bf01, custom_call_target=\"__cudnn$convBiasActivationForward\", backend_config={\"operation_queue_id\":\"0\",\"wait_on_operation_queues\":[],\"cudnn_conv_backend_config\":{\"conv_result_scale\":1,\"activation_mode\":\"kRelu\",\"side_input_scale\":0,\"leakyrelu_alpha\":0}} is taking a while...\n",
      "2024-11-03 15:33:33.554161: E external/local_xla/xla/service/slow_operation_alarm.cc:65] Trying algorithm eng35{k2=4,k3=0} for conv (f32[256,64,224,224]{3,2,1,0}, u8[0]{0}) custom-call(f32[256,64,224,224]{3,2,1,0}, f32[64,64,3,3]{3,2,1,0}, f32[64]{0}), window={size=3x3 pad=1_1x1_1}, dim_labels=bf01_oi01->bf01, custom_call_target=\"__cudnn$convBiasActivationForward\", backend_config={\"operation_queue_id\":\"0\",\"wait_on_operation_queues\":[],\"cudnn_conv_backend_config\":{\"conv_result_scale\":1,\"activation_mode\":\"kRelu\",\"side_input_scale\":0,\"leakyrelu_alpha\":0}} is taking a while...\n",
      "2024-11-03 15:33:34.000948: E external/local_xla/xla/service/slow_operation_alarm.cc:133] The operation took 1.44688665s\n",
      "Trying algorithm eng35{k2=4,k3=0} for conv (f32[256,64,224,224]{3,2,1,0}, u8[0]{0}) custom-call(f32[256,64,224,224]{3,2,1,0}, f32[64,64,3,3]{3,2,1,0}, f32[64]{0}), window={size=3x3 pad=1_1x1_1}, dim_labels=bf01_oi01->bf01, custom_call_target=\"__cudnn$convBiasActivationForward\", backend_config={\"operation_queue_id\":\"0\",\"wait_on_operation_queues\":[],\"cudnn_conv_backend_config\":{\"conv_result_scale\":1,\"activation_mode\":\"kRelu\",\"side_input_scale\":0,\"leakyrelu_alpha\":0}} is taking a while...\n",
      "2024-11-03 15:33:35.001139: E external/local_xla/xla/service/slow_operation_alarm.cc:65] Trying algorithm eng11{k2=2,k3=0} for conv (f32[256,64,224,224]{3,2,1,0}, u8[0]{0}) custom-call(f32[256,64,224,224]{3,2,1,0}, f32[64,64,3,3]{3,2,1,0}, f32[64]{0}), window={size=3x3 pad=1_1x1_1}, dim_labels=bf01_oi01->bf01, custom_call_target=\"__cudnn$convBiasActivationForward\", backend_config={\"operation_queue_id\":\"0\",\"wait_on_operation_queues\":[],\"cudnn_conv_backend_config\":{\"conv_result_scale\":1,\"activation_mode\":\"kRelu\",\"side_input_scale\":0,\"leakyrelu_alpha\":0}} is taking a while...\n",
      "2024-11-03 15:33:35.719553: E external/local_xla/xla/service/slow_operation_alarm.cc:133] The operation took 1.718509087s\n",
      "Trying algorithm eng11{k2=2,k3=0} for conv (f32[256,64,224,224]{3,2,1,0}, u8[0]{0}) custom-call(f32[256,64,224,224]{3,2,1,0}, f32[64,64,3,3]{3,2,1,0}, f32[64]{0}), window={size=3x3 pad=1_1x1_1}, dim_labels=bf01_oi01->bf01, custom_call_target=\"__cudnn$convBiasActivationForward\", backend_config={\"operation_queue_id\":\"0\",\"wait_on_operation_queues\":[],\"cudnn_conv_backend_config\":{\"conv_result_scale\":1,\"activation_mode\":\"kRelu\",\"side_input_scale\":0,\"leakyrelu_alpha\":0}} is taking a while...\n",
      "2024-11-03 15:33:51.929057: E external/local_xla/xla/service/slow_operation_alarm.cc:65] Trying algorithm eng12{k11=2} for conv (f32[256,128,112,112]{3,2,1,0}, u8[0]{0}) custom-call(f32[256,128,112,112]{3,2,1,0}, f32[128,128,3,3]{3,2,1,0}, f32[128]{0}), window={size=3x3 pad=1_1x1_1}, dim_labels=bf01_oi01->bf01, custom_call_target=\"__cudnn$convBiasActivationForward\", backend_config={\"operation_queue_id\":\"0\",\"wait_on_operation_queues\":[],\"cudnn_conv_backend_config\":{\"conv_result_scale\":1,\"activation_mode\":\"kRelu\",\"side_input_scale\":0,\"leakyrelu_alpha\":0}} is taking a while...\n",
      "2024-11-03 15:33:51.975889: E external/local_xla/xla/service/slow_operation_alarm.cc:133] The operation took 1.046941735s\n",
      "Trying algorithm eng12{k11=2} for conv (f32[256,128,112,112]{3,2,1,0}, u8[0]{0}) custom-call(f32[256,128,112,112]{3,2,1,0}, f32[128,128,3,3]{3,2,1,0}, f32[128]{0}), window={size=3x3 pad=1_1x1_1}, dim_labels=bf01_oi01->bf01, custom_call_target=\"__cudnn$convBiasActivationForward\", backend_config={\"operation_queue_id\":\"0\",\"wait_on_operation_queues\":[],\"cudnn_conv_backend_config\":{\"conv_result_scale\":1,\"activation_mode\":\"kRelu\",\"side_input_scale\":0,\"leakyrelu_alpha\":0}} is taking a while...\n",
      "2024-11-03 15:33:53.957010: E external/local_xla/xla/service/slow_operation_alarm.cc:65] Trying algorithm eng11{k2=3,k3=0} for conv (f32[256,128,112,112]{3,2,1,0}, u8[0]{0}) custom-call(f32[256,128,112,112]{3,2,1,0}, f32[128,128,3,3]{3,2,1,0}, f32[128]{0}), window={size=3x3 pad=1_1x1_1}, dim_labels=bf01_oi01->bf01, custom_call_target=\"__cudnn$convBiasActivationForward\", backend_config={\"operation_queue_id\":\"0\",\"wait_on_operation_queues\":[],\"cudnn_conv_backend_config\":{\"conv_result_scale\":1,\"activation_mode\":\"kRelu\",\"side_input_scale\":0,\"leakyrelu_alpha\":0}} is taking a while...\n",
      "2024-11-03 15:33:54.386237: E external/local_xla/xla/service/slow_operation_alarm.cc:133] The operation took 1.429334155s\n",
      "Trying algorithm eng11{k2=3,k3=0} for conv (f32[256,128,112,112]{3,2,1,0}, u8[0]{0}) custom-call(f32[256,128,112,112]{3,2,1,0}, f32[128,128,3,3]{3,2,1,0}, f32[128]{0}), window={size=3x3 pad=1_1x1_1}, dim_labels=bf01_oi01->bf01, custom_call_target=\"__cudnn$convBiasActivationForward\", backend_config={\"operation_queue_id\":\"0\",\"wait_on_operation_queues\":[],\"cudnn_conv_backend_config\":{\"conv_result_scale\":1,\"activation_mode\":\"kRelu\",\"side_input_scale\":0,\"leakyrelu_alpha\":0}} is taking a while...\n",
      "2024-11-03 15:34:05.013339: E external/local_xla/xla/service/slow_operation_alarm.cc:65] Trying algorithm eng12{k11=2} for conv (f32[256,256,56,56]{3,2,1,0}, u8[0]{0}) custom-call(f32[256,256,56,56]{3,2,1,0}, f32[256,256,3,3]{3,2,1,0}, f32[256]{0}), window={size=3x3 pad=1_1x1_1}, dim_labels=bf01_oi01->bf01, custom_call_target=\"__cudnn$convBiasActivationForward\", backend_config={\"operation_queue_id\":\"0\",\"wait_on_operation_queues\":[],\"cudnn_conv_backend_config\":{\"conv_result_scale\":1,\"activation_mode\":\"kRelu\",\"side_input_scale\":0,\"leakyrelu_alpha\":0}} is taking a while...\n",
      "2024-11-03 15:34:05.749109: E external/local_xla/xla/service/slow_operation_alarm.cc:133] The operation took 1.735889031s\n",
      "Trying algorithm eng12{k11=2} for conv (f32[256,256,56,56]{3,2,1,0}, u8[0]{0}) custom-call(f32[256,256,56,56]{3,2,1,0}, f32[256,256,3,3]{3,2,1,0}, f32[256]{0}), window={size=3x3 pad=1_1x1_1}, dim_labels=bf01_oi01->bf01, custom_call_target=\"__cudnn$convBiasActivationForward\", backend_config={\"operation_queue_id\":\"0\",\"wait_on_operation_queues\":[],\"cudnn_conv_backend_config\":{\"conv_result_scale\":1,\"activation_mode\":\"kRelu\",\"side_input_scale\":0,\"leakyrelu_alpha\":0}} is taking a while...\n",
      "I0000 00:00:1730648067.362075     107 device_compiler.h:188] Compiled cluster using XLA!  This line is logged at most once for the lifetime of the process.\n"
     ]
    },
    {
     "name": "stdout",
     "output_type": "stream",
     "text": [
      "\u001b[1m68/69\u001b[0m \u001b[32m━━━━━━━━━━━━━━━━━━━\u001b[0m\u001b[37m━\u001b[0m \u001b[1m1s\u001b[0m 1s/step - accuracy: 0.2579 - loss: 2.9941 - precision: 0.5865 - recall: 0.0202"
     ]
    },
    {
     "name": "stderr",
     "output_type": "stream",
     "text": [
      "2024-11-03 15:36:19.213557: E external/local_xla/xla/service/slow_operation_alarm.cc:65] Trying algorithm eng11{k2=2,k3=0} for conv (f32[164,64,224,224]{3,2,1,0}, u8[0]{0}) custom-call(f32[164,64,224,224]{3,2,1,0}, f32[64,64,3,3]{3,2,1,0}, f32[64]{0}), window={size=3x3 pad=1_1x1_1}, dim_labels=bf01_oi01->bf01, custom_call_target=\"__cudnn$convBiasActivationForward\", backend_config={\"operation_queue_id\":\"0\",\"wait_on_operation_queues\":[],\"cudnn_conv_backend_config\":{\"conv_result_scale\":1,\"activation_mode\":\"kRelu\",\"side_input_scale\":0,\"leakyrelu_alpha\":0}} is taking a while...\n",
      "2024-11-03 15:36:19.368911: E external/local_xla/xla/service/slow_operation_alarm.cc:133] The operation took 1.155461331s\n",
      "Trying algorithm eng11{k2=2,k3=0} for conv (f32[164,64,224,224]{3,2,1,0}, u8[0]{0}) custom-call(f32[164,64,224,224]{3,2,1,0}, f32[64,64,3,3]{3,2,1,0}, f32[64]{0}), window={size=3x3 pad=1_1x1_1}, dim_labels=bf01_oi01->bf01, custom_call_target=\"__cudnn$convBiasActivationForward\", backend_config={\"operation_queue_id\":\"0\",\"wait_on_operation_queues\":[],\"cudnn_conv_backend_config\":{\"conv_result_scale\":1,\"activation_mode\":\"kRelu\",\"side_input_scale\":0,\"leakyrelu_alpha\":0}} is taking a while...\n"
     ]
    },
    {
     "name": "stdout",
     "output_type": "stream",
     "text": [
      "\u001b[1m69/69\u001b[0m \u001b[32m━━━━━━━━━━━━━━━━━━━━\u001b[0m\u001b[37m\u001b[0m \u001b[1m0s\u001b[0m 2s/step - accuracy: 0.2603 - loss: 2.9844 - precision: 0.5914 - recall: 0.0212"
     ]
    },
    {
     "name": "stderr",
     "output_type": "stream",
     "text": [
      "2024-11-03 15:38:33.574904: E external/local_xla/xla/service/slow_operation_alarm.cc:65] Trying algorithm eng11{k2=3,k3=0} for conv (f32[220,64,224,224]{3,2,1,0}, u8[0]{0}) custom-call(f32[220,64,224,224]{3,2,1,0}, f32[64,64,3,3]{3,2,1,0}, f32[64]{0}), window={size=3x3 pad=1_1x1_1}, dim_labels=bf01_oi01->bf01, custom_call_target=\"__cudnn$convBiasActivationForward\", backend_config={\"operation_queue_id\":\"0\",\"wait_on_operation_queues\":[],\"cudnn_conv_backend_config\":{\"conv_result_scale\":1,\"activation_mode\":\"kRelu\",\"side_input_scale\":0,\"leakyrelu_alpha\":0}} is taking a while...\n",
      "2024-11-03 15:38:33.889268: E external/local_xla/xla/service/slow_operation_alarm.cc:133] The operation took 1.31453096s\n",
      "Trying algorithm eng11{k2=3,k3=0} for conv (f32[220,64,224,224]{3,2,1,0}, u8[0]{0}) custom-call(f32[220,64,224,224]{3,2,1,0}, f32[64,64,3,3]{3,2,1,0}, f32[64]{0}), window={size=3x3 pad=1_1x1_1}, dim_labels=bf01_oi01->bf01, custom_call_target=\"__cudnn$convBiasActivationForward\", backend_config={\"operation_queue_id\":\"0\",\"wait_on_operation_queues\":[],\"cudnn_conv_backend_config\":{\"conv_result_scale\":1,\"activation_mode\":\"kRelu\",\"side_input_scale\":0,\"leakyrelu_alpha\":0}} is taking a while...\n",
      "2024-11-03 15:38:34.889468: E external/local_xla/xla/service/slow_operation_alarm.cc:65] Trying algorithm eng35{k2=4,k3=0} for conv (f32[220,64,224,224]{3,2,1,0}, u8[0]{0}) custom-call(f32[220,64,224,224]{3,2,1,0}, f32[64,64,3,3]{3,2,1,0}, f32[64]{0}), window={size=3x3 pad=1_1x1_1}, dim_labels=bf01_oi01->bf01, custom_call_target=\"__cudnn$convBiasActivationForward\", backend_config={\"operation_queue_id\":\"0\",\"wait_on_operation_queues\":[],\"cudnn_conv_backend_config\":{\"conv_result_scale\":1,\"activation_mode\":\"kRelu\",\"side_input_scale\":0,\"leakyrelu_alpha\":0}} is taking a while...\n",
      "2024-11-03 15:38:35.193643: E external/local_xla/xla/service/slow_operation_alarm.cc:133] The operation took 1.304250628s\n",
      "Trying algorithm eng35{k2=4,k3=0} for conv (f32[220,64,224,224]{3,2,1,0}, u8[0]{0}) custom-call(f32[220,64,224,224]{3,2,1,0}, f32[64,64,3,3]{3,2,1,0}, f32[64]{0}), window={size=3x3 pad=1_1x1_1}, dim_labels=bf01_oi01->bf01, custom_call_target=\"__cudnn$convBiasActivationForward\", backend_config={\"operation_queue_id\":\"0\",\"wait_on_operation_queues\":[],\"cudnn_conv_backend_config\":{\"conv_result_scale\":1,\"activation_mode\":\"kRelu\",\"side_input_scale\":0,\"leakyrelu_alpha\":0}} is taking a while...\n",
      "2024-11-03 15:38:36.193833: E external/local_xla/xla/service/slow_operation_alarm.cc:65] Trying algorithm eng11{k2=2,k3=0} for conv (f32[220,64,224,224]{3,2,1,0}, u8[0]{0}) custom-call(f32[220,64,224,224]{3,2,1,0}, f32[64,64,3,3]{3,2,1,0}, f32[64]{0}), window={size=3x3 pad=1_1x1_1}, dim_labels=bf01_oi01->bf01, custom_call_target=\"__cudnn$convBiasActivationForward\", backend_config={\"operation_queue_id\":\"0\",\"wait_on_operation_queues\":[],\"cudnn_conv_backend_config\":{\"conv_result_scale\":1,\"activation_mode\":\"kRelu\",\"side_input_scale\":0,\"leakyrelu_alpha\":0}} is taking a while...\n",
      "2024-11-03 15:38:36.731795: E external/local_xla/xla/service/slow_operation_alarm.cc:133] The operation took 1.538016295s\n",
      "Trying algorithm eng11{k2=2,k3=0} for conv (f32[220,64,224,224]{3,2,1,0}, u8[0]{0}) custom-call(f32[220,64,224,224]{3,2,1,0}, f32[64,64,3,3]{3,2,1,0}, f32[64]{0}), window={size=3x3 pad=1_1x1_1}, dim_labels=bf01_oi01->bf01, custom_call_target=\"__cudnn$convBiasActivationForward\", backend_config={\"operation_queue_id\":\"0\",\"wait_on_operation_queues\":[],\"cudnn_conv_backend_config\":{\"conv_result_scale\":1,\"activation_mode\":\"kRelu\",\"side_input_scale\":0,\"leakyrelu_alpha\":0}} is taking a while...\n",
      "2024-11-03 15:38:52.832797: E external/local_xla/xla/service/slow_operation_alarm.cc:65] Trying algorithm eng11{k2=3,k3=0} for conv (f32[220,128,112,112]{3,2,1,0}, u8[0]{0}) custom-call(f32[220,128,112,112]{3,2,1,0}, f32[128,128,3,3]{3,2,1,0}, f32[128]{0}), window={size=3x3 pad=1_1x1_1}, dim_labels=bf01_oi01->bf01, custom_call_target=\"__cudnn$convBiasActivationForward\", backend_config={\"operation_queue_id\":\"0\",\"wait_on_operation_queues\":[],\"cudnn_conv_backend_config\":{\"conv_result_scale\":1,\"activation_mode\":\"kRelu\",\"side_input_scale\":0,\"leakyrelu_alpha\":0}} is taking a while...\n",
      "2024-11-03 15:38:53.093053: E external/local_xla/xla/service/slow_operation_alarm.cc:133] The operation took 1.260370195s\n",
      "Trying algorithm eng11{k2=3,k3=0} for conv (f32[220,128,112,112]{3,2,1,0}, u8[0]{0}) custom-call(f32[220,128,112,112]{3,2,1,0}, f32[128,128,3,3]{3,2,1,0}, f32[128]{0}), window={size=3x3 pad=1_1x1_1}, dim_labels=bf01_oi01->bf01, custom_call_target=\"__cudnn$convBiasActivationForward\", backend_config={\"operation_queue_id\":\"0\",\"wait_on_operation_queues\":[],\"cudnn_conv_backend_config\":{\"conv_result_scale\":1,\"activation_mode\":\"kRelu\",\"side_input_scale\":0,\"leakyrelu_alpha\":0}} is taking a while...\n"
     ]
    },
    {
     "name": "stdout",
     "output_type": "stream",
     "text": [
      "\n",
      "Epoch 1: val_loss improved from inf to 1.28288, saving model to resnet50.keras\n",
      "\u001b[1m69/69\u001b[0m \u001b[32m━━━━━━━━━━━━━━━━━━━━\u001b[0m\u001b[37m\u001b[0m \u001b[1m376s\u001b[0m 4s/step - accuracy: 0.2627 - loss: 2.9750 - precision: 0.5962 - recall: 0.0221 - val_accuracy: 0.6530 - val_loss: 1.2829 - val_precision: 0.9246 - val_recall: 0.3238 - learning_rate: 0.0010\n",
      "Epoch 2/8\n",
      "\u001b[1m69/69\u001b[0m \u001b[32m━━━━━━━━━━━━━━━━━━━━\u001b[0m\u001b[37m\u001b[0m \u001b[1m0s\u001b[0m 1s/step - accuracy: 0.6914 - loss: 1.1033 - precision: 0.9061 - recall: 0.4293\n",
      "Epoch 2: val_loss improved from 1.28288 to 0.81346, saving model to resnet50.keras\n",
      "\u001b[1m69/69\u001b[0m \u001b[32m━━━━━━━━━━━━━━━━━━━━\u001b[0m\u001b[37m\u001b[0m \u001b[1m131s\u001b[0m 2s/step - accuracy: 0.6918 - loss: 1.1015 - precision: 0.9061 - recall: 0.4303 - val_accuracy: 0.7495 - val_loss: 0.8135 - val_precision: 0.8833 - val_recall: 0.6059 - learning_rate: 0.0010\n",
      "Epoch 3/8\n",
      "\u001b[1m69/69\u001b[0m \u001b[32m━━━━━━━━━━━━━━━━━━━━\u001b[0m\u001b[37m\u001b[0m \u001b[1m0s\u001b[0m 1s/step - accuracy: 0.7830 - loss: 0.7293 - precision: 0.9054 - recall: 0.6474\n",
      "Epoch 3: val_loss improved from 0.81346 to 0.61240, saving model to resnet50.keras\n",
      "\u001b[1m69/69\u001b[0m \u001b[32m━━━━━━━━━━━━━━━━━━━━\u001b[0m\u001b[37m\u001b[0m \u001b[1m131s\u001b[0m 2s/step - accuracy: 0.7832 - loss: 0.7285 - precision: 0.9054 - recall: 0.6478 - val_accuracy: 0.8127 - val_loss: 0.6124 - val_precision: 0.9037 - val_recall: 0.7111 - learning_rate: 0.0010\n",
      "Epoch 4/8\n",
      "\u001b[1m69/69\u001b[0m \u001b[32m━━━━━━━━━━━━━━━━━━━━\u001b[0m\u001b[37m\u001b[0m \u001b[1m0s\u001b[0m 1s/step - accuracy: 0.8268 - loss: 0.5704 - precision: 0.9132 - recall: 0.7361\n",
      "Epoch 4: val_loss improved from 0.61240 to 0.51198, saving model to resnet50.keras\n",
      "\u001b[1m69/69\u001b[0m \u001b[32m━━━━━━━━━━━━━━━━━━━━\u001b[0m\u001b[37m\u001b[0m \u001b[1m131s\u001b[0m 2s/step - accuracy: 0.8269 - loss: 0.5700 - precision: 0.9133 - recall: 0.7363 - val_accuracy: 0.8399 - val_loss: 0.5120 - val_precision: 0.9089 - val_recall: 0.7677 - learning_rate: 0.0010\n",
      "Epoch 5/8\n",
      "\u001b[1m69/69\u001b[0m \u001b[32m━━━━━━━━━━━━━━━━━━━━\u001b[0m\u001b[37m\u001b[0m \u001b[1m0s\u001b[0m 1s/step - accuracy: 0.8544 - loss: 0.4706 - precision: 0.9192 - recall: 0.7902\n",
      "Epoch 5: val_loss improved from 0.51198 to 0.45847, saving model to resnet50.keras\n",
      "\u001b[1m69/69\u001b[0m \u001b[32m━━━━━━━━━━━━━━━━━━━━\u001b[0m\u001b[37m\u001b[0m \u001b[1m131s\u001b[0m 2s/step - accuracy: 0.8545 - loss: 0.4705 - precision: 0.9192 - recall: 0.7903 - val_accuracy: 0.8536 - val_loss: 0.4585 - val_precision: 0.9132 - val_recall: 0.7971 - learning_rate: 0.0010\n",
      "Epoch 6/8\n",
      "\u001b[1m69/69\u001b[0m \u001b[32m━━━━━━━━━━━━━━━━━━━━\u001b[0m\u001b[37m\u001b[0m \u001b[1m0s\u001b[0m 1s/step - accuracy: 0.8706 - loss: 0.4147 - precision: 0.9249 - recall: 0.8144\n",
      "Epoch 6: val_loss improved from 0.45847 to 0.42247, saving model to resnet50.keras\n",
      "\u001b[1m69/69\u001b[0m \u001b[32m━━━━━━━━━━━━━━━━━━━━\u001b[0m\u001b[37m\u001b[0m \u001b[1m131s\u001b[0m 2s/step - accuracy: 0.8706 - loss: 0.4145 - precision: 0.9249 - recall: 0.8145 - val_accuracy: 0.8665 - val_loss: 0.4225 - val_precision: 0.9158 - val_recall: 0.8204 - learning_rate: 0.0010\n",
      "Epoch 7/8\n",
      "\u001b[1m69/69\u001b[0m \u001b[32m━━━━━━━━━━━━━━━━━━━━\u001b[0m\u001b[37m\u001b[0m \u001b[1m0s\u001b[0m 1s/step - accuracy: 0.8812 - loss: 0.3749 - precision: 0.9290 - recall: 0.8338\n",
      "Epoch 7: val_loss improved from 0.42247 to 0.37842, saving model to resnet50.keras\n",
      "\u001b[1m69/69\u001b[0m \u001b[32m━━━━━━━━━━━━━━━━━━━━\u001b[0m\u001b[37m\u001b[0m \u001b[1m131s\u001b[0m 2s/step - accuracy: 0.8813 - loss: 0.3747 - precision: 0.9290 - recall: 0.8339 - val_accuracy: 0.8802 - val_loss: 0.3784 - val_precision: 0.9210 - val_recall: 0.8386 - learning_rate: 0.0010\n",
      "Epoch 8/8\n",
      "\u001b[1m69/69\u001b[0m \u001b[32m━━━━━━━━━━━━━━━━━━━━\u001b[0m\u001b[37m\u001b[0m \u001b[1m0s\u001b[0m 1s/step - accuracy: 0.8966 - loss: 0.3256 - precision: 0.9339 - recall: 0.8602\n",
      "Epoch 8: val_loss did not improve from 0.37842\n",
      "\u001b[1m69/69\u001b[0m \u001b[32m━━━━━━━━━━━━━━━━━━━━\u001b[0m\u001b[37m\u001b[0m \u001b[1m130s\u001b[0m 2s/step - accuracy: 0.8966 - loss: 0.3256 - precision: 0.9339 - recall: 0.8602 - val_accuracy: 0.8711 - val_loss: 0.3834 - val_precision: 0.9093 - val_recall: 0.8354 - learning_rate: 0.0010\n",
      "Restoring model weights from the end of the best epoch: 7.\n"
     ]
    }
   ],
   "source": [
    "history =model.fit(train,\n",
    "                   epochs=8,\n",
    "                   validation_data=validation,\n",
    "                   callbacks=callback,\n",
    "                   batch_size=128)\n"
   ]
  },
  {
   "cell_type": "code",
   "execution_count": 31,
   "metadata": {
    "execution": {
     "iopub.execute_input": "2024-11-03T15:57:35.652660Z",
     "iopub.status.busy": "2024-11-03T15:57:35.652262Z",
     "iopub.status.idle": "2024-11-03T15:58:48.121468Z",
     "shell.execute_reply": "2024-11-03T15:58:48.120729Z",
     "shell.execute_reply.started": "2024-11-03T15:57:35.652623Z"
    },
    "trusted": true
   },
   "outputs": [
    {
     "name": "stdout",
     "output_type": "stream",
     "text": [
      "\u001b[1m69/69\u001b[0m \u001b[32m━━━━━━━━━━━━━━━━━━━━\u001b[0m\u001b[37m\u001b[0m \u001b[1m71s\u001b[0m 1s/step - accuracy: 0.8993 - loss: 0.3254 - precision: 0.9381 - recall: 0.8591\n"
     ]
    }
   ],
   "source": [
    "results = model.evaluate(test) "
   ]
  },
  {
   "cell_type": "code",
   "execution_count": null,
   "metadata": {},
   "outputs": [],
   "source": []
  }
 ],
 "metadata": {
  "kernelspec": {
   "display_name": "Python 3",
   "language": "python",
   "name": "python3"
  },
  "language_info": {
   "codemirror_mode": {
    "name": "ipython",
    "version": 3
   },
   "file_extension": ".py",
   "mimetype": "text/x-python",
   "name": "python",
   "nbconvert_exporter": "python",
   "pygments_lexer": "ipython3",
   "version": "3.10.14"
  }
 },
 "nbformat": 4,
 "nbformat_minor": 4
}
